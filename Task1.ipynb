{
 "cells": [
  {
   "cell_type": "markdown",
   "id": "b0b60fe4-02a3-4b2e-ad43-58376ac80465",
   "metadata": {},
   "source": [
    "### **Imports**"
   ]
  },
  {
   "cell_type": "code",
   "execution_count": 1,
   "id": "c5ae09b4-9768-4d73-aa17-edde1c78ad47",
   "metadata": {},
   "outputs": [],
   "source": [
    "import numpy as np\n",
    "import matplotlib.pyplot as plt\n",
    "\n",
    "from robolab_turtlebot import Turtlebot\n",
    "from TurtleControllers import TurtlebotController\n",
    "from TurtleVision import TurtlebotVision\n",
    "import TurtleUtils\n",
    "import time"
   ]
  },
  {
   "attachments": {},
   "cell_type": "markdown",
   "id": "3f177ddb-f067-430e-abc3-66abdc706795",
   "metadata": {},
   "source": [
    "#### **Initialization**"
   ]
  },
  {
   "cell_type": "code",
   "execution_count": 2,
   "id": "056d1793-ff5b-4ed3-9fd2-4ab6b363313b",
   "metadata": {},
   "outputs": [],
   "source": [
    "turtle = Turtlebot(rgb = True, pc = True)\n",
    "turtle_controller = TurtlebotController(turtle, rate = 40)\n",
    "turtle_vision = TurtlebotVision(turtle)"
   ]
  },
  {
   "cell_type": "markdown",
   "id": "003cffda-e0b7-456f-a5aa-f1d64b128eb7",
   "metadata": {},
   "source": [
    "#### **Find garage center**"
   ]
  },
  {
   "cell_type": "code",
   "execution_count": null,
   "id": "145eff32-e889-4928-b49f-b64c3a872a62",
   "metadata": {
    "tags": []
   },
   "outputs": [],
   "source": [
    "def find_garage_entrance(turtle_controller, turtle_vision):\n",
    "    \"\"\"\n",
    "    Rotate turtlebot until it finds the center of the garage entrance.\n",
    "    \"\"\"\n",
    "    PURPLE_MIN_SIZE = 15\n",
    "    YELLOW_MIN_SIZE = 20\n",
    "\n",
    "    def reg_mean(regs):\n",
    "        s, n = 0.0, len(regs) * 2\n",
    "        for reg in regs:\n",
    "            s += reg[0] + reg[1]\n",
    "        return s / n\n",
    "\n",
    "    def reg_mid(reg):\n",
    "        return (reg[0] + reg[1]) / 2\n",
    "\n",
    "    # Find Garage center\n",
    "    while True:\n",
    "\n",
    "        # Find purple stripes\n",
    "        regs_purple = turtle_vision.get_regions(color = \"purple\",\n",
    "                                             minimal_size=PURPLE_MIN_SIZE)\n",
    "\n",
    "        # Find yellow stripe inbetween purple stripes\n",
    "        regs_yellow = turtle_vision.get_regions(color = \"yellow\",\n",
    "                                                 minimal_size=YELLOW_MIN_SIZE)\n",
    "        \n",
    "        # Want to see two purple pillars and a yellow region inbetween\n",
    "        while len(regs_purple) < 2 or len(regs_yellow) == 0:\n",
    "            turtle_controller.cmd_velocity(angular = 0.5)\n",
    "            regs_purple = turtle_vision.get_regions(color = \"purple\",\n",
    "                                             minimal_size=PURPLE_MIN_SIZE)\n",
    "            regs_yellow = turtle_vision.get_regions(color = \"yellow\",\n",
    "                                                 minimal_size=YELLOW_MIN_SIZE)\n",
    "            turtle_controller.rate.sleep()\n",
    "            \n",
    "        # Want to look at the center of the garage entrance\n",
    "        purple_mid = reg_mean(regs_purple)\n",
    "        err = purple_mid - turtle_vision.img_width // 2\n",
    "\n",
    "        if abs(err) < 10:\n",
    "            # Garage entrance found, stop!\n",
    "            turtle_controller.cmd_velocity(linear = 0, angular = 0)\n",
    "            break\n",
    "        else:\n",
    "            if err < 0.0:\n",
    "                err = np.clip(err, -turtle_controller.max_yaw_rate, -turtle_controller.min_yaw_rate)\n",
    "            else:\n",
    "                err = np.clip(err, turtle_controller.min_yaw_rate, turtle_controller.max_yaw_rate)\n",
    "            turtle_controller.cmd_velocity(linear = 0, angular = -err)\n",
    "            \n",
    "        turtle_controller.rate.sleep()"
   ]
  },
  {
   "cell_type": "markdown",
   "id": "93da4b59-4e89-4cd4-bf7c-09c0fb23dae6",
   "metadata": {},
   "source": [
    "#### **Generate a garage model**"
   ]
  },
  {
   "cell_type": "code",
   "execution_count": null,
   "id": "8605dcc9-d6c3-4446-bbc1-d71e233292a7",
   "metadata": {
    "tags": []
   },
   "outputs": [],
   "source": [
    "def generate_path(turtle_vision, visualize = False):\n",
    "    turtle_controller.reset_odometry()\n",
    "    P1, P2, P_G, P_PG, P_GOAL = turtle_vision.garage_entry_waypoints()\n",
    "\n",
    "    if visualize:\n",
    "        fig, ax = plt.subplots(1)\n",
    "        TurtleUtils.visualize_garage(ax, P1, P2, P_G, P_PG, P_GOAL)\n",
    "    return P_PG, P_GOAL"
   ]
  },
  {
   "attachments": {},
   "cell_type": "markdown",
   "id": "d16106ef",
   "metadata": {},
   "source": [
    "#### **Find garage and enter it**"
   ]
  },
  {
   "cell_type": "code",
   "execution_count": null,
   "id": "f4814fe4",
   "metadata": {},
   "outputs": [],
   "source": [
    "def move_to_garage(turtle_controller, turtle_vision, pg_reset = False):\n",
    "    # Find garage entrance\n",
    "    find_garage_entrance()\n",
    "    print(\"Garage found\")\n",
    "          \n",
    "    P_PG, P_GOAL = generate_path(visualize = False)\n",
    "\n",
    "    print(\"Moving to P_PG\")\n",
    "    turtle_controller.move_to(P_PG, relative = False)\n",
    "    print(\"Done!\")\n",
    "    time.sleep(1)\n",
    "\n",
    "    if pg_reset:\n",
    "        find_garage_entrance()\n",
    "        print(\"Garage found\")\n",
    "        P_PG, P_GOAL = generate_path(visualize = False)\n",
    "\n",
    "    print(\"Moving to P_GOAL\")\n",
    "    turtle_controller.move_to(P_GOAL, relative = False)\n",
    "    print(\"Done!\")"
   ]
  },
  {
   "attachments": {},
   "cell_type": "markdown",
   "id": "333dac0c",
   "metadata": {},
   "source": [
    "## **Task1 solution**"
   ]
  },
  {
   "cell_type": "code",
   "execution_count": null,
   "id": "ebe8d190",
   "metadata": {},
   "outputs": [],
   "source": [
    "move_to_garage(turtle_controller, turtle_vision)"
   ]
  }
 ],
 "metadata": {
  "kernelspec": {
   "display_name": "Python 3 (ipykernel)",
   "language": "python",
   "name": "python3"
  },
  "language_info": {
   "codemirror_mode": {
    "name": "ipython",
    "version": 3
   },
   "file_extension": ".py",
   "mimetype": "text/x-python",
   "name": "python",
   "nbconvert_exporter": "python",
   "pygments_lexer": "ipython3",
   "version": "3.8.10"
  }
 },
 "nbformat": 4,
 "nbformat_minor": 5
}
