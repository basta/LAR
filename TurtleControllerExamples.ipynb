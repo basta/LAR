{
 "cells": [
  {
   "cell_type": "markdown",
   "id": "63e1f612",
   "metadata": {},
   "source": [
    "### Imports"
   ]
  },
  {
   "cell_type": "code",
   "execution_count": 1,
   "id": "17a92df5",
   "metadata": {},
   "outputs": [],
   "source": [
    "import math\n",
    "import numpy as np\n",
    "import matplotlib.pyplot as plt\n",
    "import cv2\n",
    "import PIL\n",
    "import time\n",
    "\n",
    "import TurtleControllers\n",
    "from robolab_turtlebot import Turtlebot, Rate"
   ]
  },
  {
   "cell_type": "markdown",
   "id": "05cbbced",
   "metadata": {},
   "source": [
    "## Examples"
   ]
  },
  {
   "cell_type": "code",
   "execution_count": 2,
   "id": "88019cff",
   "metadata": {},
   "outputs": [],
   "source": [
    "turtle = Turtlebot(rgb = True, depth = False, pc = True)\n",
    "turtle_controller = TurtleControllers.TurtlebotController(turtle, rate = 40)"
   ]
  },
  {
   "cell_type": "markdown",
   "id": "71342dba",
   "metadata": {},
   "source": [
    "##### Rotation "
   ]
  },
  {
   "cell_type": "code",
   "execution_count": null,
   "id": "7757d802",
   "metadata": {},
   "outputs": [],
   "source": [
    "N = 10\n",
    "for i in range(N):\n",
    "    time.sleep(0.5)\n",
    "    turtle_controller.rotate(np.pi / 2, relative = False)\n",
    "    time.sleep(0.5)\n",
    "    turtle_controller.rotate(0.0, relative = False)"
   ]
  },
  {
   "cell_type": "markdown",
   "id": "0c8d0b0a",
   "metadata": {},
   "source": [
    "##### Forward movement "
   ]
  },
  {
   "cell_type": "code",
   "execution_count": null,
   "id": "f30b06cb",
   "metadata": {},
   "outputs": [],
   "source": [
    "turtle_controller.move_forward(1.0)"
   ]
  },
  {
   "cell_type": "markdown",
   "id": "7712ead6",
   "metadata": {},
   "source": [
    "##### Movement to position in odom frame"
   ]
  },
  {
   "cell_type": "code",
   "execution_count": null,
   "id": "39e695ca",
   "metadata": {},
   "outputs": [],
   "source": [
    "desired_position = np.array([0.0, 0.0])\n",
    "desired_orientation = 0.0\n",
    "\n",
    "turtle_controller.move_to(desired_position, desired_orientation)"
   ]
  },
  {
   "cell_type": "markdown",
   "id": "1ffeeff6",
   "metadata": {},
   "source": [
    "##### Movement to position in body frame"
   ]
  },
  {
   "cell_type": "code",
   "execution_count": null,
   "id": "44cbb8e6",
   "metadata": {},
   "outputs": [],
   "source": [
    "desired_position = np.array([1.0, 0.5])\n",
    "desired_orientation = 0.0\n",
    "\n",
    "turtle_controller.move_to(desired_position, desired_orientation, relative = True)"
   ]
  },
  {
   "cell_type": "markdown",
   "id": "e55f4dc3",
   "metadata": {},
   "source": [
    "##### Square route"
   ]
  },
  {
   "cell_type": "code",
   "execution_count": null,
   "id": "456b4cf4",
   "metadata": {},
   "outputs": [],
   "source": [
    "turtle_controller.move_forward(distance = 1.0, desired_yaw = 0.0)\n",
    "turtle_controller.rotate(0.5 * np.pi, relative = False)\n",
    "\n",
    "turtle_controller.move_forward(distance = 1.0, desired_yaw = 0.5 * np.pi)\n",
    "turtle_controller.rotate(1.0 * np.pi, relative = False)\n",
    "\n",
    "turtle_controller.move_forward(distance = 1.0, desired_yaw = 1.0 * np.pi)\n",
    "turtle_controller.rotate(1.5 * np.pi, relative = False)\n",
    "\n",
    "turtle_controller.move_forward(distance = 1.0, desired_yaw = 1.5 * np.pi)\n",
    "turtle_controller.rotate(2.0 * np.pi, relative = False)"
   ]
  },
  {
   "cell_type": "markdown",
   "id": "52ce5902",
   "metadata": {},
   "source": [
    "##### Square route alternative"
   ]
  },
  {
   "cell_type": "code",
   "execution_count": null,
   "id": "1e7decf4",
   "metadata": {},
   "outputs": [],
   "source": [
    "turtle_controller.move_to(np.array([1.0, 0.0]), 0.5*np.pi)\n",
    "turtle_controller.move_to(np.array([1.0, 1.0]), 1.0*np.pi)\n",
    "turtle_controller.move_to(np.array([0.0, 1.0]), 1.5*np.pi)\n",
    "turtle_controller.move_to(np.array([0.0, 0.0]), 2.0*np.pi)"
   ]
  },
  {
   "cell_type": "markdown",
   "id": "4346b635",
   "metadata": {},
   "source": [
    "##### Square route alternative 2"
   ]
  },
  {
   "cell_type": "code",
   "execution_count": null,
   "id": "82449dce",
   "metadata": {},
   "outputs": [],
   "source": [
    "turtle_controller.move_to(np.array([1.0, 0.0]))\n",
    "turtle_controller.move_to(np.array([1.0, 1.0]))\n",
    "turtle_controller.move_to(np.array([0.0, 1.0]))\n",
    "turtle_controller.move_to(np.array([0.0, 0.0]))"
   ]
  },
  {
   "cell_type": "markdown",
   "id": "f062d4c1",
   "metadata": {},
   "source": [
    "#### Triangle route"
   ]
  },
  {
   "cell_type": "code",
   "execution_count": null,
   "id": "b5930882",
   "metadata": {},
   "outputs": [],
   "source": [
    "turtle_controller.move_forward(distance = 1.0, desired_yaw = 0.0)\n",
    "turtle_controller.rotate((2/3) * np.pi, relative = False)\n",
    "\n",
    "turtle_controller.move_forward(distance = 1.0, desired_yaw = (2/3) * np.pi)\n",
    "turtle_controller.rotate((4/3) * np.pi, relative = False)\n",
    "\n",
    "turtle_controller.move_forward(distance = 1.0, desired_yaw = (4/3)* np.pi)\n",
    "turtle_controller.rotate((6/3) * np.pi, relative = False)"
   ]
  },
  {
   "cell_type": "markdown",
   "id": "0a214db4",
   "metadata": {},
   "source": [
    "##### Odometry check"
   ]
  },
  {
   "cell_type": "code",
   "execution_count": 3,
   "id": "34919203",
   "metadata": {},
   "outputs": [
    {
     "data": {
      "text/plain": [
       "(array([0., 0.]), 0.0)"
      ]
     },
     "execution_count": 3,
     "metadata": {},
     "output_type": "execute_result"
    },
    {
     "name": "stdout",
     "output_type": "stream",
     "text": [
      "shutdown request: [/turtlenode] Reason: new node registered with same name\n"
     ]
    }
   ],
   "source": [
    "turtle_controller.get_odometry()"
   ]
  },
  {
   "cell_type": "code",
   "execution_count": null,
   "id": "4bb8fa45",
   "metadata": {},
   "outputs": [],
   "source": []
  }
 ],
 "metadata": {
  "kernelspec": {
   "display_name": "Python 3 (ipykernel)",
   "language": "python",
   "name": "python3"
  },
  "language_info": {
   "codemirror_mode": {
    "name": "ipython",
    "version": 3
   },
   "file_extension": ".py",
   "mimetype": "text/x-python",
   "name": "python",
   "nbconvert_exporter": "python",
   "pygments_lexer": "ipython3",
   "version": "3.8.10"
  }
 },
 "nbformat": 4,
 "nbformat_minor": 5
}
