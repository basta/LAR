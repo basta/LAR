{
 "cells": [
  {
   "cell_type": "markdown",
   "id": "1edc0ec5-bece-40ee-9e49-075b5c3f3922",
   "metadata": {},
   "source": [
    "### **Imports and initialization**"
   ]
  },
  {
   "cell_type": "code",
   "execution_count": null,
   "id": "7d5d4d0d-49d1-47d0-8ae4-ad3cbae5178d",
   "metadata": {
    "tags": []
   },
   "outputs": [],
   "source": [
    "import numpy as np\n",
    "\n",
    "from TurtleControllers import TurtlebotController\n",
    "from TurtleVision import TurtlebotVision\n",
    "from TurtleICP import TurtlebotICP\n",
    "from TurtleMap import TurtlebotMap\n",
    "from TurtleUtils import show_img, plot_data, robot2plt, plot_fitted_garage, plt2robot, transform_points, robot2plt_numpy\n",
    "\n",
    "from robolab_turtlebot import Turtlebot\n",
    "turtle = Turtlebot(rgb = True, pc = True)\n",
    "turtle_vision = TurtlebotVision(turtle)\n",
    "turtle_controller = TurtlebotController(turtle, rate = 40)\n",
    "turtle_controller.reset_odometry()\n",
    "turtle_icp = TurtlebotICP()\n",
    "turtle_map = TurtlebotMap()"
   ]
  },
  {
   "cell_type": "markdown",
   "id": "5cedf15e-606b-4e3c-b1ef-a84f1a73045f",
   "metadata": {},
   "source": [
    "#### **Sample garage and fit garage model**"
   ]
  },
  {
   "cell_type": "code",
   "execution_count": null,
   "id": "8edc397b-2a15-4148-a90c-d7da718dca4e",
   "metadata": {},
   "outputs": [],
   "source": [
    "yellow_points = turtle_vision.sample_garage(color=\"yellow\", r2p=False)\n",
    "odom = turtle_controller.get_odometry()\n",
    "turtle_map.add_points(yellow_points, odom)\n",
    "\n",
    "yellow_downsampled = turtle_map.points_downsampled\n",
    "yellow_downsampled = robot2plt_numpy(yellow_downsampled)\n",
    "\n",
    "opt = turtle_icp.optimize(yellow_downsampled)\n",
    "\n",
    "plot_fitted_garage(opt.garage, robot2plt_numpy(np.copy(turtle_map.points)))"
   ]
  },
  {
   "cell_type": "code",
   "execution_count": null,
   "id": "428641e2-31e7-472b-be77-af62c04a76e0",
   "metadata": {},
   "outputs": [],
   "source": [
    "opt.animate_results()"
   ]
  },
  {
   "cell_type": "code",
   "execution_count": null,
   "id": "d0238763",
   "metadata": {},
   "outputs": [],
   "source": [
    "plot_fitted_garage(result.garage, sampled_points_np)"
   ]
  },
  {
   "cell_type": "markdown",
   "id": "7c29f636",
   "metadata": {},
   "source": [
    "#### **Retrieve garage object**"
   ]
  },
  {
   "cell_type": "code",
   "execution_count": null,
   "id": "a9e8cdc9",
   "metadata": {},
   "outputs": [],
   "source": [
    "turtle_controller = TurtlebotController(turtle, rate = 40)\n",
    "turtle_controller.reset_odometry()\n",
    "\n",
    "garage = result.garage\n",
    "\n",
    "pt, idx = garage.closest_waypoint(turtle_controller.get_odometry())\n",
    "turtle_controller.move_to(pt)\n",
    "turtle_controller.face_towards(plt2robot([garage.waypoints[:,0]])[0], relative = False)"
   ]
  },
  {
   "cell_type": "code",
   "execution_count": null,
   "id": "73a87898",
   "metadata": {},
   "outputs": [],
   "source": [
    "sampled_points2 = turtle_vision.sample_garage(color = \"yellow\",\n",
    "                        sampling_step = 20, r2p = True)\n",
    "sampled_points2 = transform_points(sampled_points2, *turtle_controller.get_odometry())\n",
    "sampled_points_np2 = np.array(sampled_points).T\n",
    "\n",
    "sampled_points_np = np.hstack((sampled_points_np, sampled_points_np2))\n",
    "print(sampled_points_np.shape)"
   ]
  },
  {
   "cell_type": "code",
   "execution_count": null,
   "id": "82b71510",
   "metadata": {},
   "outputs": [],
   "source": [
    "result = turtle_icp.optimize(sampled_points_np)\n",
    "result.animate_results()"
   ]
  },
  {
   "cell_type": "code",
   "execution_count": null,
   "id": "7869b30e",
   "metadata": {},
   "outputs": [],
   "source": [
    "plot_fitted_garage(result.garage, sampled_points_np)"
   ]
  },
  {
   "cell_type": "code",
   "execution_count": null,
   "id": "94c941ef",
   "metadata": {},
   "outputs": [],
   "source": [
    "garage = result.garage\n",
    "\n",
    "pt, idx = garage.closest_waypoint(turtle_controller.get_odometry())\n",
    "while idx != 1:\n",
    "    turtle_controller.move_to(pt)\n",
    "    pt, idx, _ = garage.closest_waypoint(idx)"
   ]
  },
  {
   "cell_type": "code",
   "execution_count": null,
   "id": "35bbad5e",
   "metadata": {},
   "outputs": [],
   "source": [
    "pt, idx, _ = garage.closest_waypoint(idx)"
   ]
  }
 ],
 "metadata": {
  "kernelspec": {
   "display_name": "Python 3",
   "language": "python",
   "name": "python3"
  },
  "language_info": {
   "codemirror_mode": {
    "name": "ipython",
    "version": 3
   },
   "file_extension": ".py",
   "mimetype": "text/x-python",
   "name": "python",
   "nbconvert_exporter": "python",
   "pygments_lexer": "ipython3",
   "version": "3.8.10"
  },
  "vscode": {
   "interpreter": {
    "hash": "916dbcbb3f70747c44a77c7bcd40155683ae19c65e1c03b4aa3499c5328201f1"
   }
  }
 },
 "nbformat": 4,
 "nbformat_minor": 5
}
