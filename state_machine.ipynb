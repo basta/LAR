{
 "cells": [
  {
   "cell_type": "raw",
   "source": [],
   "metadata": {
    "collapsed": false,
    "pycharm": {
     "name": ""
    }
   }
  },
  {
   "cell_type": "code",
   "execution_count": 8,
   "metadata": {
    "collapsed": true,
    "ExecuteTime": {
     "start_time": "2023-04-05T16:59:52.760415Z",
     "end_time": "2023-04-05T16:59:52.762412Z"
    }
   },
   "outputs": [
    {
     "name": "stdout",
     "output_type": "stream",
     "text": [
      "Doing task 1\n",
      "Done\n"
     ]
    }
   ],
   "source": [
    "import abc\n",
    "from typing import Dict\n",
    "from TurtleControllers import TurtlebotController\n",
    "from TurtleVision import TurtlebotVision\n",
    "from TurtleMap import TurtlebotMap\n",
    "from TurtleICP import TurtlebotICP\n",
    "from robolab_turtlebot import Turtlebot\n",
    "\n",
    "\n",
    "states = {}\n",
    "\n",
    "class State(abc.ABC):\n",
    "    name = \"default\"\n",
    "\n",
    "    def __init__(self, automat: \"Automat\"):\n",
    "        self.automat = automat\n",
    "\n",
    "    def execute(self) -> \"State\":\n",
    "        self.action()\n",
    "        return self.get_next_state()\n",
    "\n",
    "    @abc.abstractmethod\n",
    "    def action(self):\n",
    "        pass\n",
    "\n",
    "    @abc.abstractmethod\n",
    "    def get_next_state(self):\n",
    "        pass\n",
    "\n",
    "class End(State):\n",
    "    name = \"End\"\n",
    "    def get_next_state(self):\n",
    "        return None\n",
    "\n",
    "    def action(self):\n",
    "        print(\"Done\")\n",
    "\n",
    "\n",
    "class Task1(State):\n",
    "    name = \"Task1\"\n",
    "\n",
    "    def action(self):\n",
    "        print(\"Doing task 1\")\n",
    "\n",
    "    def get_next_state(self):\n",
    "        return self.automat.states[\"End\"]\n",
    "\n",
    "class Automat:\n",
    "    def __init__(self, states: list=None):\n",
    "        self.states: Dict[str, State] = {}\n",
    "        for state_cls in states:\n",
    "            state = state_cls(self)\n",
    "            self.states[state.name] = state\n",
    "            assert state.name != \"default\", f\"Name for state {state_cls} is not set\"\n",
    "\n",
    "        self.state:State = list(self.states.values())[0]\n",
    "\n",
    "    def execute(self):\n",
    "        while self.state:\n",
    "            self.state = self.state.execute()\n",
    "\n",
    "class Pycomat:\n",
    "    def __init__(self):\n",
    "        super().__init__([Task1, End])\n",
    "        self.turtle = Turtlebot(rgb = True, pc = True)\n",
    "        self.turtle_controller = TurtlebotController(self.turtle, rate = 40)\n",
    "        self.turtle_vision = TurtlebotVision(self.turtle)\n",
    "        self.turtle_map_yellow = TurtlebotMap()  # Map for yellow points in images\n",
    "        self.turtle_map_purple = TurtlebotMap()  # Map for purple points in images\n",
    "        self.turtle_icp = TurtlebotICP()\n",
    "\n",
    "\n",
    "automat = Automat([Task1, End])\n",
    "automat.execute()"
   ]
  }
 ],
 "metadata": {
  "kernelspec": {
   "display_name": "Python 3",
   "language": "python",
   "name": "python3"
  },
  "language_info": {
   "codemirror_mode": {
    "name": "ipython",
    "version": 2
   },
   "file_extension": ".py",
   "mimetype": "text/x-python",
   "name": "python",
   "nbconvert_exporter": "python",
   "pygments_lexer": "ipython2",
   "version": "2.7.6"
  }
 },
 "nbformat": 4,
 "nbformat_minor": 0
}
