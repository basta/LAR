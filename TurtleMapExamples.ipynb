{
 "cells": [
  {
   "cell_type": "code",
   "execution_count": null,
   "id": "79f3dc68",
   "metadata": {},
   "outputs": [],
   "source": [
    "import numpy as np\n",
    "import math\n",
    "import time\n",
    "\n",
    "from TurtleControllers import TurtleDrive\n",
    "from TurtleVision import TurtlebotVision\n",
    "from TurtleMap import TurtlebotMap\n",
    "import TurtleUtils\n",
    "\n",
    "from robolab_turtlebot import Turtlebot"
   ]
  },
  {
   "cell_type": "code",
   "execution_count": null,
   "id": "403091ec",
   "metadata": {},
   "outputs": [],
   "source": [
    "turtle = Turtlebot(rgb = True, pc = True)\n",
    "turtle_controller = TurtleDrive(turtle, rate = 40)\n",
    "turtle_vision = TurtlebotVision(turtle)\n",
    "turtle_map = TurtlebotMap()"
   ]
  },
  {
   "cell_type": "code",
   "execution_count": null,
   "id": "569faf50",
   "metadata": {},
   "outputs": [],
   "source": [
    "for angle in range(12):\n",
    "    points = turtle_vision.sample_garage(color = \"yellow\", r2p = True)\n",
    "    turtle_map.add_points(points, turtle_controller.get_odometry())    \n",
    "    angle = math.radians(30)\n",
    "    turtle_controller.rotate(angle, relative = True)\n",
    "    time.sleep(1.0)"
   ]
  },
  {
   "cell_type": "code",
   "execution_count": null,
   "id": "2cfe819b",
   "metadata": {},
   "outputs": [],
   "source": [
    "turtle_map.visualize_filtered()"
   ]
  },
  {
   "cell_type": "code",
   "execution_count": null,
   "id": "9498b7ff",
   "metadata": {},
   "outputs": [],
   "source": [
    "points = turtle_vision.sample_garage(color = \"yellow\", r2p = True)\n",
    "points = np.array(points).T\n",
    "TurtleUtils.plot_data([points], [\"data\"])"
   ]
  },
  {
   "cell_type": "code",
   "execution_count": null,
   "id": "d2a058d1",
   "metadata": {},
   "outputs": [],
   "source": [
    "img = turtle_vision.get_rgb_mask()\n",
    "TurtleUtils.show_img(img)"
   ]
  },
  {
   "cell_type": "code",
   "execution_count": null,
   "id": "ccc46720",
   "metadata": {},
   "outputs": [],
   "source": [
    "img = turtle_vision.get_depth_image()\n",
    "TurtleUtils.show_img(img)"
   ]
  }
 ],
 "metadata": {
  "kernelspec": {
   "display_name": "Python 3 (ipykernel)",
   "language": "python",
   "name": "python3"
  },
  "language_info": {
   "codemirror_mode": {
    "name": "ipython",
    "version": 3
   },
   "file_extension": ".py",
   "mimetype": "text/x-python",
   "name": "python",
   "nbconvert_exporter": "python",
   "pygments_lexer": "ipython3",
   "version": "3.8.10"
  }
 },
 "nbformat": 4,
 "nbformat_minor": 5
}
