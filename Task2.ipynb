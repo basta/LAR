{
 "cells": [
  {
   "attachments": {},
   "cell_type": "markdown",
   "metadata": {},
   "source": [
    "### **Imports**"
   ]
  },
  {
   "cell_type": "code",
   "execution_count": 5,
   "metadata": {},
   "outputs": [
    {
     "ename": "ModuleNotFoundError",
     "evalue": "No module named 'matplotlib'",
     "output_type": "error",
     "traceback": [
      "\u001B[0;31m---------------------------------------------------------------------------\u001B[0m",
      "\u001B[0;31mModuleNotFoundError\u001B[0m                       Traceback (most recent call last)",
      "Input \u001B[0;32mIn [5]\u001B[0m, in \u001B[0;36m<cell line: 3>\u001B[0;34m()\u001B[0m\n\u001B[1;32m      1\u001B[0m \u001B[38;5;28;01mimport\u001B[39;00m \u001B[38;5;21;01mmath\u001B[39;00m\n\u001B[1;32m      2\u001B[0m \u001B[38;5;28;01mimport\u001B[39;00m \u001B[38;5;21;01mnumpy\u001B[39;00m \u001B[38;5;28;01mas\u001B[39;00m \u001B[38;5;21;01mnp\u001B[39;00m\n\u001B[0;32m----> 3\u001B[0m \u001B[38;5;28;01mimport\u001B[39;00m \u001B[38;5;21;01mmatplotlib\u001B[39;00m\u001B[38;5;21;01m.\u001B[39;00m\u001B[38;5;21;01mpyplot\u001B[39;00m \u001B[38;5;28;01mas\u001B[39;00m \u001B[38;5;21;01mplt\u001B[39;00m\n\u001B[1;32m      5\u001B[0m \u001B[38;5;28;01mfrom\u001B[39;00m \u001B[38;5;21;01mrobolab_turtlebot\u001B[39;00m \u001B[38;5;28;01mimport\u001B[39;00m Turtlebot\n\u001B[1;32m      6\u001B[0m \u001B[38;5;28;01mfrom\u001B[39;00m \u001B[38;5;21;01mTurtleControllers\u001B[39;00m \u001B[38;5;28;01mimport\u001B[39;00m TurtlebotController\n",
      "\u001B[0;31mModuleNotFoundError\u001B[0m: No module named 'matplotlib'"
     ]
    }
   ],
   "source": [
    "import math\n",
    "import numpy as np\n",
    "import matplotlib.pyplot as plt\n",
    "\n",
    "from robolab_turtlebot import Turtlebot\n",
    "from TurtleControllers import TurtlebotController\n",
    "from TurtleVision import TurtlebotVision\n",
    "from TurtleMap import TurtlebotMap\n",
    "from TurtleICP import TurtlebotICP\n",
    "import TurtleUtils\n",
    "import time"
   ]
  },
  {
   "attachments": {},
   "cell_type": "markdown",
   "metadata": {},
   "source": [
    "### **Initialization**"
   ]
  },
  {
   "cell_type": "code",
   "execution_count": null,
   "metadata": {},
   "outputs": [],
   "source": [
    "turtle = Turtlebot(rgb = True, pc = True)\n",
    "turtle_controller = TurtlebotController(turtle, rate = 40)\n",
    "turtle_vision = TurtlebotVision(turtle)\n",
    "turtle_map_yellow = TurtlebotMap()  # Map for yellow points in images\n",
    "turtle_map_purple = TurtlebotMap()  # Map for purple points in images\n",
    "turtle_icp = TurtlebotICP()"
   ]
  },
  {
   "attachments": {},
   "cell_type": "markdown",
   "metadata": {},
   "source": [
    "### **Scanning**"
   ]
  },
  {
   "cell_type": "code",
   "execution_count": null,
   "metadata": {},
   "outputs": [],
   "source": [
    "def scan(r2p = False):\n",
    "    current_yaw = turtle_controller.get_odometry()[1]\n",
    "    angles = np.linspace(current_yaw, current_yaw + 2*np.pi, 12)\n",
    "    for angle in angles:\n",
    "        # Scan environment\n",
    "        yellow_points = turtle_vision.sample_garage(color = \"yellow\", r2p = r2p)\n",
    "        purple_points = turtle_vision.sample_garage(sampling_step = 3, \n",
    "                                color = \"purple\", minimal_size = 8, r2p = r2p)\n",
    "        \n",
    "        # Current odometry\n",
    "        odom = turtle_controller.get_odometry()\n",
    "\n",
    "        # Add points to maps\n",
    "        turtle_map_yellow.add_points(yellow_points, odom)\n",
    "        turtle_map_purple.add_points(purple_points, odom)\n",
    "\n",
    "        # Rotate to next position\n",
    "        turtle_controller.rotate(angle, relative = False, tol = 0.1)\n",
    "        time.sleep(1.0)"
   ]
  },
  {
   "attachments": {},
   "cell_type": "markdown",
   "metadata": {},
   "source": [
    "### **Fit garage model**"
   ]
  },
  {
   "cell_type": "code",
   "execution_count": null,
   "metadata": {},
   "outputs": [],
   "source": [
    "def task2():\n",
    "    # Scan environment\n",
    "    scan()\n",
    "\n",
    "    # Task1 if there are some purple clusters\n",
    "    use_task1 = turtle_map_purple.cluster_count >= 2\n",
    "\n",
    "    if use_task1:\n",
    "        print(\"Use task1\")\n",
    "        return\n",
    "    \n",
    "    turtle_map_purple.reset()\n",
    "\n",
    "    # Fit garage model using ICP\n",
    "    yellow_downsampled = turtle_map_yellow.points_downsampled\n",
    "    opt = turtle_icp.fit(yellow_downsampled)\n",
    "    garage = opt.garage\n",
    "\n",
    "    # For now assume the garage fit is perfect\n",
    "    pt, idx, should_scan = garage.closest_waypoint(turtle_controller.get_odometry())\n",
    "\n",
    "\n",
    "    while idx != 0:\n",
    "        # Move to closest waypoint\n",
    "        turtle_controller.move_to(pt, relative = False)\n",
    "\n",
    "        if should_scan:\n",
    "            task2()\n",
    "            return\n",
    "        \n",
    "        pt, idx, should_scan = garage.closest_waypoint(idx)\n",
    "\n",
    "    # Should be near the entrance\n",
    "    task2()"
   ]
  },
  {
   "cell_type": "code",
   "execution_count": 6,
   "outputs": [
    {
     "ename": "NameError",
     "evalue": "name 'TurtlebotController' is not defined",
     "output_type": "error",
     "traceback": [
      "\u001B[0;31m---------------------------------------------------------------------------\u001B[0m",
      "\u001B[0;31mNameError\u001B[0m                                 Traceback (most recent call last)",
      "Input \u001B[0;32mIn [6]\u001B[0m, in \u001B[0;36m<cell line: 106>\u001B[0;34m()\u001B[0m\n\u001B[1;32m    102\u001B[0m         \u001B[38;5;28mself\u001B[39m\u001B[38;5;241m.\u001B[39mturtle_map_purple \u001B[38;5;241m=\u001B[39m TurtlebotMap()  \u001B[38;5;66;03m# Map for purple points in images\u001B[39;00m\n\u001B[1;32m    103\u001B[0m         \u001B[38;5;28mself\u001B[39m\u001B[38;5;241m.\u001B[39mturtle_icp \u001B[38;5;241m=\u001B[39m TurtlebotICP()\n\u001B[0;32m--> 106\u001B[0m automat \u001B[38;5;241m=\u001B[39m \u001B[43mPycomat\u001B[49m\u001B[43m(\u001B[49m\u001B[43m)\u001B[49m\n\u001B[1;32m    107\u001B[0m automat\u001B[38;5;241m.\u001B[39mexecute()\n",
      "Input \u001B[0;32mIn [6]\u001B[0m, in \u001B[0;36mPycomat.__init__\u001B[0;34m(self)\u001B[0m\n\u001B[1;32m     97\u001B[0m \u001B[38;5;66;03m# self.turtle = Turtlebot(rgb = True, pc = True)\u001B[39;00m\n\u001B[1;32m     98\u001B[0m \u001B[38;5;28mself\u001B[39m\u001B[38;5;241m.\u001B[39mturtle \u001B[38;5;241m=\u001B[39m \u001B[38;5;28;01mNone\u001B[39;00m\n\u001B[0;32m---> 99\u001B[0m \u001B[38;5;28mself\u001B[39m\u001B[38;5;241m.\u001B[39mturtle_controller \u001B[38;5;241m=\u001B[39m \u001B[43mTurtlebotController\u001B[49m(\u001B[38;5;28mself\u001B[39m\u001B[38;5;241m.\u001B[39mturtle, rate \u001B[38;5;241m=\u001B[39m \u001B[38;5;241m40\u001B[39m)\n\u001B[1;32m    100\u001B[0m \u001B[38;5;28mself\u001B[39m\u001B[38;5;241m.\u001B[39mturtle_vision \u001B[38;5;241m=\u001B[39m TurtlebotVision(\u001B[38;5;28mself\u001B[39m\u001B[38;5;241m.\u001B[39mturtle)\n\u001B[1;32m    101\u001B[0m \u001B[38;5;28mself\u001B[39m\u001B[38;5;241m.\u001B[39mturtle_map_yellow \u001B[38;5;241m=\u001B[39m TurtlebotMap()  \u001B[38;5;66;03m# Map for yellow points in images\u001B[39;00m\n",
      "\u001B[0;31mNameError\u001B[0m: name 'TurtlebotController' is not defined"
     ]
    }
   ],
   "source": [
    "import abc\n",
    "from typing import Dict\n",
    "\n",
    "class State(abc.ABC):\n",
    "    name = \"default\"\n",
    "\n",
    "    def __init__(self, automat: \"Automat\"):\n",
    "        self.automat = automat\n",
    "\n",
    "    def execute(self) -> \"State\":\n",
    "        self.action()\n",
    "        return self.get_next_state()\n",
    "\n",
    "    @abc.abstractmethod\n",
    "    def action(self):\n",
    "        pass\n",
    "\n",
    "    @abc.abstractmethod\n",
    "    def get_next_state(self):\n",
    "        pass\n",
    "\n",
    "class End(State):\n",
    "    name = \"End\"\n",
    "    def get_next_state(self):\n",
    "        return None\n",
    "\n",
    "    def action(self):\n",
    "        print(\"Done\")\n",
    "\n",
    "\n",
    "class Task1(State):\n",
    "    name = \"Task1\"\n",
    "\n",
    "    def action(self):\n",
    "        print(\"Doing task 1\")\n",
    "\n",
    "    def get_next_state(self):\n",
    "        return self.automat.states[\"End\"]\n",
    "\n",
    "class Automat:\n",
    "    def __init__(self, states: list=None):\n",
    "        self.states: Dict[str, State] = {}\n",
    "        for state_cls in states:\n",
    "            state = state_cls(self)\n",
    "            self.states[state.name] = state\n",
    "            assert state.name != \"default\", f\"Name for state {state_cls} is not set\"\n",
    "\n",
    "        self.state:State = list(self.states.values())[0]\n",
    "\n",
    "    def execute(self):\n",
    "        while self.state:\n",
    "            self.state = self.state.execute()\n",
    "\n",
    "\n",
    "class Scan(State):\n",
    "    name = \"Scan\"\n",
    "\n",
    "    def action(self):\n",
    "        current_yaw = self.automat.turtle_controller.get_odometry()[1]\n",
    "        angles = np.linspace(current_yaw, current_yaw + 2*np.pi, 12)\n",
    "        for angle in angles:\n",
    "            # Scan environment\n",
    "            yellow_points = self.automat.turtle_vision.sample_garage(color = \"yellow\", r2p = r2p)\n",
    "            purple_points = self.automat.turtle_vision.sample_garage(sampling_step = 3,\n",
    "                                                        color = \"purple\", minimal_size = 8, r2p = r2p)\n",
    "\n",
    "            # Current odometry\n",
    "            odom = turtle_controller.get_odometry()\n",
    "\n",
    "            # Add points to maps\n",
    "            self.automat.turtle_map_yellow.add_points(yellow_points, odom)\n",
    "            self.automat.turtle_map_purple.add_points(purple_points, odom)\n",
    "\n",
    "            # Rotate to next position\n",
    "            self.automat.turtle_controller.rotate(angle, relative = False, tol = 0.1)\n",
    "            time.sleep(1.0)\n",
    "\n",
    "    def get_next_state(self):\n",
    "        raise Exception()\n",
    "\n",
    "\n",
    "class Task2(State):\n",
    "    name = \"Task2\"\n",
    "\n",
    "    def action(self):\n",
    "        pass\n",
    "\n",
    "    def get_next_state(self):\n",
    "        return self.automat.states[\"Scan\"]\n",
    "\n",
    "\n",
    "\n",
    "\n",
    "class Pycomat(Automat):\n",
    "    def __init__(self):\n",
    "        super().__init__([Task1, End])\n",
    "        # self.turtle = Turtlebot(rgb = True, pc = True)\n",
    "        self.turtle = None\n",
    "        self.turtle_controller = TurtlebotController(self.turtle, rate = 40)\n",
    "        self.turtle_vision = TurtlebotVision(self.turtle)\n",
    "        self.turtle_map_yellow = TurtlebotMap()  # Map for yellow points in images\n",
    "        self.turtle_map_purple = TurtlebotMap()  # Map for purple points in images\n",
    "        self.turtle_icp = TurtlebotICP()\n",
    "\n",
    "\n",
    "automat = Pycomat()\n",
    "automat.execute()"
   ],
   "metadata": {
    "collapsed": false,
    "ExecuteTime": {
     "start_time": "2023-04-05T17:15:30.745095Z",
     "end_time": "2023-04-05T17:15:30.745425Z"
    }
   }
  }
 ],
 "metadata": {
  "kernelspec": {
   "display_name": "Python 3",
   "language": "python",
   "name": "python3"
  },
  "language_info": {
   "name": "python",
   "version": "3.8.10"
  },
  "orig_nbformat": 4,
  "vscode": {
   "interpreter": {
    "hash": "916dbcbb3f70747c44a77c7bcd40155683ae19c65e1c03b4aa3499c5328201f1"
   }
  }
 },
 "nbformat": 4,
 "nbformat_minor": 2
}
