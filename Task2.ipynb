{
 "cells": [
  {
   "attachments": {},
   "cell_type": "markdown",
   "metadata": {},
   "source": [
    "### **Imports**"
   ]
  },
  {
   "cell_type": "code",
   "execution_count": null,
   "metadata": {},
   "outputs": [],
   "source": [
    "import math\n",
    "import numpy as np\n",
    "import matplotlib.pyplot as plt\n",
    "\n",
    "from robolab_turtlebot import Turtlebot\n",
    "from TurtleControllers import TurtlebotController\n",
    "from TurtleVision import TurtlebotVision\n",
    "from TurtleMap import TurtlebotMap\n",
    "from TurtleICP import TurtlebotICP\n",
    "import TurtleUtils\n",
    "import time"
   ]
  },
  {
   "attachments": {},
   "cell_type": "markdown",
   "metadata": {},
   "source": [
    "### **Initialization**"
   ]
  },
  {
   "cell_type": "code",
   "execution_count": null,
   "metadata": {},
   "outputs": [],
   "source": [
    "turtle = Turtlebot(rgb = True, pc = True)\n",
    "turtle_controller = TurtlebotController(turtle, rate = 40)\n",
    "turtle_vision = TurtlebotVision(turtle)\n",
    "turtle_map_yellow = TurtlebotMap()  # Map for yellow points in images\n",
    "turtle_map_purple = TurtlebotMap()  # Map for purple points in images\n",
    "turtle_icp = TurtlebotICP()"
   ]
  },
  {
   "attachments": {},
   "cell_type": "markdown",
   "metadata": {},
   "source": [
    "### **Scanning**"
   ]
  },
  {
   "cell_type": "code",
   "execution_count": null,
   "metadata": {},
   "outputs": [],
   "source": [
    "def scan(r2p = False):\n",
    "    ANGLE_STEP = math.radians(30)\n",
    "    for angle in range(12):\n",
    "        # Scan environment\n",
    "        yellow_points = turtle_vision.sample_garage(color = \"yellow\", r2p = r2p)\n",
    "        purple_points = turtle_vision.sample_garage(step_size = 3, \n",
    "                                color = \"purple\", minimal_size = 8, r2p = r2p)\n",
    "        \n",
    "        # Current odometry\n",
    "        odom = turtle_controller.get_odometry()\n",
    "\n",
    "        # Add points to maps\n",
    "        turtle_map_yellow.add_points(yellow_points, odom)\n",
    "        turtle_map_purple.add_points(purple_points, odom)\n",
    "\n",
    "        # Rotate to next position\n",
    "        turtle_controller.rotate(ANGLE_STEP, relative = True)\n",
    "        time.sleep(1.0)"
   ]
  },
  {
   "attachments": {},
   "cell_type": "markdown",
   "metadata": {},
   "source": [
    "### **Fit garage model**"
   ]
  },
  {
   "cell_type": "code",
   "execution_count": null,
   "metadata": {},
   "outputs": [],
   "source": [
    "def task2():\n",
    "    # Scan environment\n",
    "    scan()\n",
    "\n",
    "    # Task1 if there are some purple clusters\n",
    "    use_task1 = turtle_map_purple.cluster_count >= 2\n",
    "\n",
    "    if use_task1:\n",
    "        print(\"Use task1\")\n",
    "        return\n",
    "    \n",
    "    turtle_map_purple.reset()\n",
    "\n",
    "    # Fit garage model using ICP\n",
    "    yellow_downsampled = turtle_map_yellow.points_downsampled\n",
    "    opt = turtle_icp.fit(yellow_downsampled)\n",
    "    garage = opt.garage\n",
    "\n",
    "    # For now assume the garage fit is perfect\n",
    "    pt, idx, should_scan = garage.closest_waypoint(turtle_controller.get_odometry())\n",
    "\n",
    "\n",
    "    while idx != 0:\n",
    "        # Move to closest waypoint\n",
    "        turtle_controller.move_to(pt, relative = False)\n",
    "\n",
    "        if should_scan:\n",
    "            task2()\n",
    "            return\n",
    "        \n",
    "        pt, idx, should_scan = garage.closest_waypoint(idx)\n",
    "\n",
    "    # Should be near the entrance\n",
    "    task2()"
   ]
  }
 ],
 "metadata": {
  "kernelspec": {
   "display_name": "Python 3",
   "language": "python",
   "name": "python3"
  },
  "language_info": {
   "name": "python",
   "version": "3.8.10"
  },
  "orig_nbformat": 4,
  "vscode": {
   "interpreter": {
    "hash": "916dbcbb3f70747c44a77c7bcd40155683ae19c65e1c03b4aa3499c5328201f1"
   }
  }
 },
 "nbformat": 4,
 "nbformat_minor": 2
}
