{
 "cells": [
  {
   "cell_type": "code",
   "execution_count": 7,
   "id": "44556015",
   "metadata": {},
   "outputs": [
    {
     "data": {
      "text/plain": [
       "[(5, 9, 4), (0, 3, 3)]"
      ]
     },
     "execution_count": 7,
     "metadata": {},
     "output_type": "execute_result"
    }
   ],
   "source": [
    "def largest_area(arr, n=2):\n",
    "    starts = []\n",
    "    ends = []\n",
    "    state = \"BLACK\"\n",
    "    for i, n in enumerate(arr):\n",
    "        if n == 1 and state == \"BLACK\":\n",
    "            state = \"WHITE\"\n",
    "            starts.append(i)\n",
    "        elif n == 0 and state == \"WHITE\":\n",
    "            state = \"BLACK\"\n",
    "            ends.append(i)\n",
    "    \n",
    "    if state == \"WHITE\":\n",
    "        ends.append(i+1)\n",
    "    \n",
    "    ret = []\n",
    "    for start,end in zip(starts, ends):\n",
    "        ret.append((start, end, end-start))\n",
    "    \n",
    "    return sorted(ret, reverse=True, key = lambda x: x[2])\n",
    "\n",
    "largest_area([1,1,1,0,0,1,1,1,1,0])\n",
    "    \n",
    "    "
   ]
  }
 ],
 "metadata": {
  "kernelspec": {
   "display_name": "Python 3 (ipykernel)",
   "language": "python",
   "name": "python3"
  },
  "language_info": {
   "codemirror_mode": {
    "name": "ipython",
    "version": 3
   },
   "file_extension": ".py",
   "mimetype": "text/x-python",
   "name": "python",
   "nbconvert_exporter": "python",
   "pygments_lexer": "ipython3",
   "version": "3.8.10"
  }
 },
 "nbformat": 4,
 "nbformat_minor": 5
}
