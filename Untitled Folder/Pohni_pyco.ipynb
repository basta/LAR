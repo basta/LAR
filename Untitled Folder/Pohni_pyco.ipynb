{
 "cells": [
  {
   "cell_type": "code",
   "execution_count": 1,
   "metadata": {},
   "outputs": [],
   "source": [
    "start = [100, 100, 2]\n",
    "end = [150, 120]\n"
   ]
  },
  {
   "cell_type": "code",
   "execution_count": 9,
   "metadata": {},
   "outputs": [],
   "source": [
    "from robolab_turtlebot import Turtlebot, Rate,  get_time\n",
    "import time\n",
    "turtle = Turtlebot(rgb = True, depth = True, pc = True)\n",
    "rate = Rate(10)"
   ]
  },
  {
   "cell_type": "code",
   "execution_count": 10,
   "metadata": {},
   "outputs": [
    {
     "data": {
      "text/plain": [
       "array([-0.04910911,  1.07272608,  1.71845118])"
      ]
     },
     "execution_count": 10,
     "metadata": {},
     "output_type": "execute_result"
    }
   ],
   "source": [
    "turtle.get_odometry()"
   ]
  },
  {
   "cell_type": "code",
   "execution_count": 14,
   "metadata": {},
   "outputs": [],
   "source": [
    "start = get_time()\n",
    "while get_time() - start < 1:\n",
    "    turtle.cmd_velocity(angular=0.514)\n",
    "    rate.sleep()"
   ]
  },
  {
   "cell_type": "markdown",
   "metadata": {},
   "source": []
  },
  {
   "cell_type": "code",
   "execution_count": 5,
   "metadata": {},
   "outputs": [
    {
     "data": {
      "text/plain": [
       "array([ 0.54912162, -0.57281044, -2.52408786])"
      ]
     },
     "execution_count": 5,
     "metadata": {},
     "output_type": "execute_result"
    }
   ],
   "source": [
    "import math\n",
    "import numpy as np\n",
    "def move_to(x, y):\n",
    "    v = turtle.get_odometry()\n",
    "    dx = x - v[0]\n",
    "    dy = y - v[1]\n",
    "    dphi = math.atan2(dy, dx) - v[2]\n",
    "\n",
    "    movement = np.array([dx,dy,dphi])\n",
    "    return movement\n",
    "move_to(0.5,0.5)"
   ]
  },
  {
   "cell_type": "code",
   "execution_count": 18,
   "metadata": {},
   "outputs": [],
   "source": [
    "def pohni_pyco(movement):\n",
    "    final_phi = movement[2]\n",
    "    final_x = movement[0]\n",
    "    final_y = movement[1]\n",
    "    finish_rotation = False\n",
    "    finish_position = False\n",
    "    \n",
    "    while not finish_rotation:\n",
    "        current_place = turtle.get_odometry()\n",
    "        t = get_time()\n",
    "        #x = current_place[0]\n",
    "        #y = current_place[1]\n",
    "        phi = current_place[2]\n",
    "        print(phi)\n",
    "        diff_phi = abs(phi-final_phi)\n",
    "        if diff_phi < 0.2:\n",
    "            finish_rotation = True\n",
    "        else:\n",
    "            while get_time() - t < 1:\n",
    "                turtle.cmd_velocity(angular = 0.25)\n",
    "                rate.sleep()\n",
    "    \n",
    "    while not finish_position:\n",
    "        current_place = turtle.get_odometry()\n",
    "        t = get_time()\n",
    "        x = current_place[0]\n",
    "        y = current_place[1]\n",
    "        print(x,y)\n",
    "        #phi = current_place[2]\n",
    "        diff_x = abs(x - final_x)\n",
    "        diff_y = abs(y - final_y)\n",
    "        if diff_x < 0.1 or diff_y < 0.1:\n",
    "            finish_position = True\n",
    "        else:\n",
    "            while get_time() - t < 1:\n",
    "                turtle.cmd_velocity(linear = 0.1)\n",
    "                rate.sleep()"
   ]
  },
  {
   "cell_type": "code",
   "execution_count": 23,
   "metadata": {},
   "outputs": [
    {
     "name": "stdout",
     "output_type": "stream",
     "text": [
      "0.0\n",
      "0.0006981317007977441\n",
      "0.01535889741755009\n",
      "0.0293215314335048\n",
      "0.07208209810736582\n",
      "0.17261306302223928\n",
      "0.30700341542580256\n",
      "0.4668755749084831\n",
      "0.6335545184739417\n",
      "0.005359267926861812 0.00014181246034080514\n",
      "0.05949895855048613 0.045268145948167235\n",
      "0.11960336495249721 0.10129859218100747\n",
      "0.18293848804356816 0.1664597452973054\n",
      "0.2385019707987812 0.22826997528633175\n",
      "0.29975895609008835 0.301285860802245\n",
      "0.3610909836247209 0.379351168210092\n",
      "0.42135661311934547 0.46064451186686695\n"
     ]
    }
   ],
   "source": [
    "#turtle.reset_odometry()\n",
    "#time.sleep(1)\n",
    "#pohni_pyco(move_to(0.5,0.5))"
   ]
  },
  {
   "cell_type": "code",
   "execution_count": null,
   "metadata": {},
   "outputs": [],
   "source": []
  }
 ],
 "metadata": {
  "kernelspec": {
   "display_name": "Python 3 (ipykernel)",
   "language": "python",
   "name": "python3"
  },
  "language_info": {
   "codemirror_mode": {
    "name": "ipython",
    "version": 3
   },
   "file_extension": ".py",
   "mimetype": "text/x-python",
   "name": "python",
   "nbconvert_exporter": "python",
   "pygments_lexer": "ipython3",
   "version": "3.8.10"
  }
 },
 "nbformat": 4,
 "nbformat_minor": 1
}
