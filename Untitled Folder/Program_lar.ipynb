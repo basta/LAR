{
 "cells": [
  {
   "cell_type": "code",
   "execution_count": 1,
   "id": "20f9128e",
   "metadata": {},
   "outputs": [],
   "source": [
    "import matplotlib.pyplot as plt\n",
    "import numpy as np\n",
    "from robolab_turtlebot import Turtlebot, Rate\n",
    "\n",
    "import cv2\n",
    "from PIL import Image\n",
    "\n",
    "%matplotlib inline"
   ]
  },
  {
   "cell_type": "code",
   "execution_count": 2,
   "id": "305763d5",
   "metadata": {},
   "outputs": [],
   "source": [
    "turtle = Turtlebot(rgb = True, depth = True, pc = True)\n",
    "rate = Rate(10)\n",
    "\n",
    "def get_garage_mask(img):\n",
    "    img_strip = flatten(img)\n",
    "    hsv = cv2.cvtColor(img_strip, cv2.COLOR_RGB2HSV)\n",
    "    # PURPLE\n",
    "    lower_color = np.array([115, 0, 0])\n",
    "    upper_color = np.array([140, 250, 250])\n",
    "    mask = cv2.inRange(hsv, lower_color, upper_color)\n",
    "    mask = mask / np.max(mask)\n",
    "    return mask\n",
    "\n",
    "def permute_rgb(img):\n",
    "    img[:,:,[0,1,2]] = img[:,:,[2,1,0]]\n",
    "    \n",
    "def strip(img, start = 250, stop = 300):\n",
    "    return img[start:stop, :]\n",
    "\n",
    "def flatten(img):\n",
    "    row = strip(img)\n",
    "    row[:,:,0] = np.mean(row[:,:,0], axis = 0)\n",
    "    row[:,:,1] = np.mean(row[:,:,1], axis = 0)\n",
    "    row[:,:,2] = np.mean(row[:,:,2], axis = 0)\n",
    "    return row\n",
    "\n",
    "def apply_mask(img, mask):\n",
    "    img[:,:,0] = img[:,:,0] * mask\n",
    "    img[:,:,1] = img[:,:,1] * mask\n",
    "    img[:,:,2] = img[:,:,2] * mask\n",
    "    return img\n",
    "\n",
    "def get_angle(P, horizontal_fov = 74, img_width = 640):\n",
    "    angle_mid = horizontal_fov / 2\n",
    "    angle = (P / img_width) * horizontal_fov - angle_mid\n",
    "    return np.deg2rad(angle)\n",
    "\n",
    "def largest_area(arr):\n",
    "    starts = []\n",
    "    ends = []\n",
    "    state = \"BLACK\"\n",
    "    for i, n in enumerate(arr):\n",
    "        if n == 1 and state == \"BLACK\":\n",
    "            state = \"WHITE\"\n",
    "            starts.append(i)\n",
    "        elif n == 0 and state == \"WHITE\":\n",
    "            state = \"BLACK\"\n",
    "            ends.append(i)\n",
    "    \n",
    "    if state == \"WHITE\":\n",
    "        ends.append(i+1)\n",
    "    \n",
    "    ret = []\n",
    "    for start,end in zip(starts, ends):\n",
    "        ret.append((start, end, end-start))\n",
    "    \n",
    "    return sorted(ret, reverse=True, key = lambda x: x[2])\n",
    "    \n",
    "def save_img(img, name):\n",
    "    im = Image.fromarray(img)\n",
    "    im.save(name)\n",
    "    \n",
    "def load_img(name):\n",
    "    im = Image.open(name)\n",
    "    return np.array(im)"
   ]
  },
  {
   "cell_type": "code",
   "execution_count": null,
   "id": "0bdd8fad",
   "metadata": {},
   "outputs": [],
   "source": [
    "img = turtle.get_rgb_image()\n",
    "permute_rgb(img)\n",
    "\n",
    "print(img.shape)\n",
    "plt.imshow(img)"
   ]
  },
  {
   "cell_type": "code",
   "execution_count": null,
   "id": "d3a27372",
   "metadata": {},
   "outputs": [],
   "source": [
    "img_pcl = turtle.get_point_cloud()\n",
    "plt.imshow(img_pcl)\n",
    "pixel1 = img_pcl[400,300]\n",
    "print(pixel1)\n",
    "\n",
    "print(np.linalg.norm(pixel1))\n",
    "\n",
    "img_depth = turtle.get_depth_image()\n",
    "# plt.imshow(img_depth)\n",
    "print(img_depth[400, 400])"
   ]
  },
  {
   "cell_type": "code",
   "execution_count": null,
   "id": "be9b12c1",
   "metadata": {},
   "outputs": [],
   "source": [
    "mask_low = img_depth > 100\n",
    "mask_high = img_depth < 1000\n",
    "\n",
    "filtered_img = img_depth * mask_low * mask_high\n",
    "plt.imshow(filtered_img)"
   ]
  },
  {
   "cell_type": "code",
   "execution_count": null,
   "id": "5d0d514b",
   "metadata": {},
   "outputs": [],
   "source": [
    "img = turtle.get_rgb_image()\n",
    "permute_rgb(img)\n",
    "img = flatten(img)\n",
    "\n",
    "plt.imshow()\n",
    "# Filter color\n",
    "# reference vsh 33, 58, 230\n",
    "# [ 33,  58, 140]\n",
    "hsv = cv2.cvtColor(img, cv2.COLOR_RGB2HSV)\n",
    "lower_blue = np.array([15, 30, 60])\n",
    "upper_blue = np.array([70, 100, 110])\n",
    "mask = cv2.inRange(hsv, lower_blue, upper_blue)\n",
    "#rgbim = cv2.cvtColor(img, cv2.COLOR_HSV2RGB)\n",
    "\n",
    "cv2.imshow(\"ds\", mask)\n",
    "cv2.waitKey(0)"
   ]
  },
  {
   "cell_type": "code",
   "execution_count": null,
   "id": "40ccad14",
   "metadata": {},
   "outputs": [],
   "source": [
    "img_copy = np.copy(img)\n",
    "\n",
    "img_copy.shape\n",
    "# np.mean(img_copy, axis = 0)\n",
    "\n",
    "m = np.mean(img_copy[0,0,:])\n",
    "np.mean(img_copy, )\n",
    "print(img_copy[0,0,:])"
   ]
  },
  {
   "cell_type": "code",
   "execution_count": null,
   "id": "f0c343eb",
   "metadata": {},
   "outputs": [],
   "source": [
    "img[:,:,0] = img[:,:,0] * mask\n",
    "img[:,:,1] = img[:,:,1] * mask\n",
    "img[:,:,2] = img[:,:,2] * mask\n",
    "\n",
    "plt.imshow(img)"
   ]
  },
  {
   "cell_type": "code",
   "execution_count": null,
   "id": "a6b7ead4",
   "metadata": {},
   "outputs": [],
   "source": [
    "from matplotlib.colors import hsv_to_rgb\n",
    "plt.imshow(hsv)"
   ]
  },
  {
   "cell_type": "code",
   "execution_count": null,
   "id": "ab4960e8",
   "metadata": {},
   "outputs": [],
   "source": [
    "img.shape"
   ]
  },
  {
   "cell_type": "code",
   "execution_count": null,
   "id": "3879f865",
   "metadata": {},
   "outputs": [],
   "source": [
    "hsv[10, 320, :]"
   ]
  },
  {
   "cell_type": "code",
   "execution_count": null,
   "id": "9784fe59",
   "metadata": {},
   "outputs": [],
   "source": [
    "plt.imshow(img[:,290:350,:])"
   ]
  },
  {
   "cell_type": "code",
   "execution_count": null,
   "id": "325b6310",
   "metadata": {},
   "outputs": [],
   "source": [
    "img = load_img(\"brana.png\")\n",
    "\n",
    "# Filter image\n",
    "# permute_rgb(img) - uz je to RGB\n",
    "img = flatten(img)\n",
    "\n",
    "hsv = cv2.cvtColor(img, cv2.COLOR_RGB2HSV)\n",
    "\n",
    "# PURPLE\n",
    "lower_color = np.array([115, 0, 0])\n",
    "upper_color = np.array([140, 250, 250])\n",
    "\n",
    "# YELLOW\n",
    "# lower_color = np.array([20, 0, 0])\n",
    "# upper_color = np.array([40, 250, 250])\n",
    "\n",
    "mask = cv2.inRange(hsv, lower_color, upper_color)\n",
    "\n",
    "plt.imshow(apply_mask(img, mask / np.max(mask)))\n",
    "# plt.imshow(img)"
   ]
  },
  {
   "cell_type": "code",
   "execution_count": null,
   "id": "f503db75",
   "metadata": {},
   "outputs": [],
   "source": [
    "img = turtle.get_rgb_image()\n",
    "permute_rgb(img)\n",
    "plt.imshow(img)\n",
    "\n",
    "# Filter image\n",
    "# permute_rgb(img) - uz je to RGB\n",
    "img = flatten(img)\n",
    "\n",
    "hsv = cv2.cvtColor(img, cv2.COLOR_RGB2HSV)\n",
    "\n",
    "# PURPLE\n",
    "lower_color = np.array([115, 0, 0])\n",
    "upper_color = np.array([140, 250, 250])\n",
    "\n",
    "# YELLOW\n",
    "# lower_color = np.array([20, 0, 0])\n",
    "# upper_color = np.array([40, 250, 250])\n",
    "\n",
    "mask = cv2.inRange(hsv, lower_color, upper_color)\n",
    "\n",
    "# plt.imshow(apply_mask(img, mask / np.max(mask)))"
   ]
  },
  {
   "cell_type": "code",
   "execution_count": null,
   "id": "6dabf347",
   "metadata": {},
   "outputs": [],
   "source": [
    "img_depth = turtle.get_depth_image()\n",
    "plt.imshow(img_depth)\n",
    "\n",
    "print(img_depth.shape)"
   ]
  },
  {
   "cell_type": "code",
   "execution_count": null,
   "id": "3483be86",
   "metadata": {},
   "outputs": [],
   "source": []
  },
  {
   "cell_type": "code",
   "execution_count": null,
   "id": "16785e57",
   "metadata": {},
   "outputs": [],
   "source": []
  },
  {
   "cell_type": "code",
   "execution_count": null,
   "id": "c250c1a4",
   "metadata": {},
   "outputs": [],
   "source": [
    "m_arr = mask[1] / np.max(mask[1])\n",
    "areas = largest_area(mask[1] / np.max(mask[1]))\n",
    "print(areas)\n",
    "area1 = areas[0]\n",
    "area2 = areas[1]\n",
    "avg_idx = int(0.5 * (area2[0] + area2[1]))\n",
    "print(avg_idx)"
   ]
  },
  {
   "cell_type": "code",
   "execution_count": null,
   "id": "3b3d4bcf",
   "metadata": {},
   "outputs": [],
   "source": [
    "img_depth = turtle.get_depth_image()\n",
    "img_depth_strip = strip(img_depth)\n",
    "plt.imshow(img_depth_strip)\n",
    "\n",
    "# img_depth_mean = np.mean(img_depth_strip, axis = 0)\n",
    "# print(img_depth_mean[avg_idx])"
   ]
  },
  {
   "cell_type": "code",
   "execution_count": null,
   "id": "8bdfc6fd",
   "metadata": {},
   "outputs": [],
   "source": [
    "plt.imshow(img_depth)"
   ]
  },
  {
   "cell_type": "code",
   "execution_count": null,
   "id": "27d5c2f8",
   "metadata": {},
   "outputs": [],
   "source": [
    "plt.imshow(apply_mask(img, mask / np.max(mask)))"
   ]
  },
  {
   "cell_type": "code",
   "execution_count": null,
   "id": "86093590",
   "metadata": {},
   "outputs": [],
   "source": [
    "plt.plot(img_depth_mean)\n",
    "plt.show()"
   ]
  },
  {
   "cell_type": "code",
   "execution_count": null,
   "id": "c11caaae",
   "metadata": {},
   "outputs": [],
   "source": [
    "## 3D plot\n",
    "from mpl_toolkits.mplot3d import Axes3D # <--- This is important for 3d plotting \n",
    "x_size, y_size = img_depth.shape\n",
    "\n",
    "x = np.arange(0,x_size)\n",
    "y = np.arange(0, y_size)\n",
    "\n",
    "x, y = np.meshgrid(x, y)\n",
    "Z = ((x**2 - 1)**2)\n",
    "fig = plt.figure()\n",
    "ax = fig.add_subplot(projection='3d')\n",
    "\n",
    "ax.plot_surface(y, x, img_depth.T, cmap=plt.cm.YlGnBu_r)"
   ]
  },
  {
   "cell_type": "code",
   "execution_count": null,
   "id": "352b3dbf",
   "metadata": {},
   "outputs": [],
   "source": [
    "Z.shape"
   ]
  },
  {
   "cell_type": "code",
   "execution_count": null,
   "id": "b9b04229",
   "metadata": {},
   "outputs": [],
   "source": [
    "img_depth.shape"
   ]
  },
  {
   "cell_type": "code",
   "execution_count": null,
   "id": "b8f809aa",
   "metadata": {},
   "outputs": [],
   "source": [
    "pcl_img = turtle.get_point_cloud()"
   ]
  },
  {
   "cell_type": "code",
   "execution_count": null,
   "id": "1281c5f9",
   "metadata": {},
   "outputs": [],
   "source": [
    "plt.imshow(pcl_img)"
   ]
  },
  {
   "cell_type": "code",
   "execution_count": null,
   "id": "512af63a",
   "metadata": {},
   "outputs": [],
   "source": [
    "pcl_img.shape"
   ]
  },
  {
   "cell_type": "code",
   "execution_count": null,
   "id": "9e7f644c",
   "metadata": {},
   "outputs": [],
   "source": [
    "depth_image = turtle.get_depth_image()\n",
    "depth_image = imutils.resize(depth_image, width = 640)\n",
    "print(depth_image.shape)"
   ]
  },
  {
   "cell_type": "code",
   "execution_count": null,
   "id": "8b031cf0",
   "metadata": {},
   "outputs": [],
   "source": [
    "plt.imshow(depth_image)"
   ]
  },
  {
   "cell_type": "code",
   "execution_count": null,
   "id": "698bfe2b",
   "metadata": {},
   "outputs": [],
   "source": [
    "img = turtle.get_rgb_image()\n",
    "plt.imshow(img)"
   ]
  },
  {
   "cell_type": "code",
   "execution_count": null,
   "id": "8c71ca01",
   "metadata": {},
   "outputs": [],
   "source": [
    "def get_angle(P, horizontal_fov = 74, img_width = 640):\n",
    "    angle_mid = horizontal_fov / 2\n",
    "    angle = (P / v) * horizontal_fov - ANGLE_MID\n",
    "    return angle"
   ]
  },
  {
   "cell_type": "code",
   "execution_count": 17,
   "id": "8f459be1",
   "metadata": {},
   "outputs": [
    {
     "ename": "NameError",
     "evalue": "name 'visualize' is not defined",
     "output_type": "error",
     "traceback": [
      "\u001b[0;31m---------------------------------------------------------------------------\u001b[0m",
      "\u001b[0;31mNameError\u001b[0m                                 Traceback (most recent call last)",
      "Cell \u001b[0;32mIn[17], line 80\u001b[0m\n\u001b[1;32m     75\u001b[0m \u001b[38;5;66;03m# plt.imshow(mask)\u001b[39;00m\n\u001b[1;32m     76\u001b[0m \u001b[38;5;66;03m# plt.imshow(pcl_filtered)\u001b[39;00m\n\u001b[1;32m     77\u001b[0m \u001b[38;5;66;03m# plt.imshow(img)\u001b[39;00m\n\u001b[1;32m     79\u001b[0m fig, ax \u001b[38;5;241m=\u001b[39mplt\u001b[38;5;241m.\u001b[39msubplots()\n\u001b[0;32m---> 80\u001b[0m \u001b[43mvisualize\u001b[49m(ax, P1B, P2B)\n",
      "\u001b[0;31mNameError\u001b[0m: name 'visualize' is not defined"
     ]
    },
    {
     "data": {
      "image/png": "[encoded data removed]",
      "text/plain": [
       "<Figure size 640x480 with 1 Axes>"
      ]
     },
     "metadata": {},
     "output_type": "display_data"
    }
   ],
   "source": [
    "# Matplotlib stuff\n",
    "from IPython.display import display, clear_output\n",
    "fig = plt.figure()\n",
    "ax = fig.add_subplot(111)\n",
    "\n",
    "N = 100\n",
    "\n",
    "for i in range(N):\n",
    "    # Get image\n",
    "    img = turtle.get_rgb_image()\n",
    "    permute_rgb(img)\n",
    "    # plt.imshow(img)\n",
    "\n",
    "    # Get mask\n",
    "    mask = get_garage_mask(img)\n",
    "\n",
    "    # Get areas\n",
    "    areas = largest_area(mask[0])\n",
    "    a1_mid = int(np.mean(areas[0][:2]))\n",
    "    a2_mid = int(np.mean(areas[1][:2]))\n",
    "\n",
    "    # Get pcl\n",
    "    pcl = strip(turtle.get_point_cloud())\n",
    "\n",
    "    # Get filtered pcl\n",
    "    pcl_filtered = apply_mask(pcl, mask)\n",
    "\n",
    "    # P1\n",
    "    l1 = np.linalg.norm(pcl_filtered[0,a1_mid])\n",
    "    phi1 = get_angle(a1_mid)\n",
    "    P1B = [l1 * np.cos(phi1), l1 * np.sin(phi1)]\n",
    "    print(f\"l1: {l1}, phi1: {np.rad2deg(phi1)}, P1B: {P1B}\")\n",
    "\n",
    "    # P2\n",
    "    l2 = np.linalg.norm(pcl_filtered[0,a2_mid])\n",
    "    phi2 = get_angle(a2_mid)\n",
    "    P2B = [l2 * np.cos(phi2), l2 * np.sin(phi2)]\n",
    "    print(f\"l2: {l2}, phi2: {np.rad2deg(phi2)}, P2B: {P2B}\")\n",
    "    \n",
    "    # Visualize\n",
    "    ax.clear()\n",
    "    circle1 = plt.Circle((0.0,0.0), 0.2, color='r')\n",
    "    ax.set_xlim(-2,2)\n",
    "    ax.set_ylim(-2,2)\n",
    "    ax.add_patch(circle1)\n",
    "\n",
    "    # P1\n",
    "    if P1B is not None:\n",
    "        circle2 = plt.Circle((P1B[1], P1B[0]), 0.04, color='b')\n",
    "        ax.add_patch(circle2)\n",
    "\n",
    "    # P2\n",
    "    if P2B is not None:\n",
    "        circle3 = plt.Circle((P2B[1], P2B[0]), 0.04, color='b')\n",
    "        ax.add_patch(circle3)\n",
    "        \n",
    "    ax.plot([0,0], [0, 3], linestyle=\"dashed\")\n",
    "        \n",
    "    # Distance from TTbot to P1\n",
    "    if P1B is not None:\n",
    "        ax.plot([P1B[1],0], [P1B[0],0], marker = 'o', linestyle='dashed')\n",
    "        ax.text(P1B[1], P1B[0]+0.2, \"P1: l1: %.2f, phi1: %.2f\" % (l1, np.rad2deg(phi1)))\n",
    "        \n",
    "    # Distance from TTbot to P2\n",
    "    if P1B is not None:\n",
    "        ax.plot([P2B[1],0], [P2B[0],0], marker = 'o', linestyle='dashed')\n",
    "        ax.text(P2B[1], P2B[0]+0.4, \"P2: l2: %.2f, phi2: %.2f\" % (l2, np.rad2deg(phi2)))\n",
    "                \n",
    "    \n",
    "    display(fig)\n",
    "    clear_output(wait=True)\n",
    "    plt.pause(0.2)\n",
    "\n",
    "\n",
    "# plt.imshow(mask)\n",
    "# plt.imshow(pcl_filtered)\n",
    "# plt.imshow(img)\n",
    "\n",
    "fig, ax =plt.subplots()\n",
    "visualize(ax, P1B, P2B)"
   ]
  },
  {
   "cell_type": "code",
   "execution_count": null,
   "id": "d6dc95bd",
   "metadata": {},
   "outputs": [],
   "source": [
    "pcl[200,1]"
   ]
  },
  {
   "cell_type": "code",
   "execution_count": null,
   "id": "8e4f53cc",
   "metadata": {},
   "outputs": [],
   "source": [
    "## Visualize bot\n",
    "\n",
    "def visualize(ax, P1B = None, P2B = None):\n",
    "    # TURTLEBOT\n",
    "    circle1 = plt.Circle((0.0,0.0), 0.2, color='r')\n",
    "#     fig, ax = # note we must use plt.subplots, not plt.subplot\n",
    "    ax.cla()\n",
    "    ax.set_xlim(-2,2)\n",
    "    ax.set_ylim(-2,2)\n",
    "    ax.add_patch(circle1)\n",
    "\n",
    "    # P1\n",
    "    if P1B is not None:\n",
    "        circle2 = plt.Circle((P1B[1], P1B[0]), 0.04, color='b')\n",
    "        ax.add_patch(circle2)\n",
    "\n",
    "    # P2\n",
    "    if P2B is not None:\n",
    "        circle3 = plt.Circle((P2B[1], P2B[0]), 0.04, color='b')\n",
    "        ax.add_patch(circle3)"
   ]
  },
  {
   "cell_type": "code",
   "execution_count": null,
   "id": "7f731665",
   "metadata": {},
   "outputs": [],
   "source": [
    "fig, ax =plt.subplots()\n",
    "visualize(ax, P1B, P2B)"
   ]
  },
  {
   "cell_type": "code",
   "execution_count": null,
   "id": "87e39405",
   "metadata": {},
   "outputs": [],
   "source": [
    "from IPython.display import display, clear_output\n",
    "import numpy as np\n",
    "import matplotlib.pyplot as plt\n",
    "\n",
    "%matplotlib inline\n",
    "\n",
    "m = 100\n",
    "n = 100\n",
    "matrix = np.random.normal(0, 1, size=(m, n))\n",
    "\n",
    "fig = plt.figure()\n",
    "ax = fig.add_subplot(111)\n",
    "\n",
    "for i in range(m):\n",
    "    ax.clear()\n",
    "    ax.plot(matrix[i, :])\n",
    "    display(fig)\n",
    "    clear_output(wait=True)\n",
    "    plt.pause(0.2)"
   ]
  },
  {
   "cell_type": "code",
   "execution_count": null,
   "id": "72ea79e0",
   "metadata": {},
   "outputs": [],
   "source": []
  }
 ],
 "metadata": {
  "kernelspec": {
   "display_name": "Python 3 (ipykernel)",
   "language": "python",
   "name": "python3"
  },
  "language_info": {
   "codemirror_mode": {
    "name": "ipython",
    "version": 3
   },
   "file_extension": ".py",
   "mimetype": "text/x-python",
   "name": "python",
   "nbconvert_exporter": "python",
   "pygments_lexer": "ipython3",
   "version": "3.8.10"
  }
 },
 "nbformat": 4,
 "nbformat_minor": 5
}
