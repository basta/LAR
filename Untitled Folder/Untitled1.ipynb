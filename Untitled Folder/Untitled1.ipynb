{
 "cells": [
  {
   "cell_type": "code",
   "execution_count": 1,
   "id": "ce9df97e",
   "metadata": {},
   "outputs": [],
   "source": [
    "from robolab_turtlebot import Turtlebot, Rate"
   ]
  },
  {
   "cell_type": "code",
   "execution_count": 2,
   "id": "453ec9e0",
   "metadata": {},
   "outputs": [
    {
     "name": "stdout",
     "output_type": "stream",
     "text": [
      "shutdown request: [/turtlenode] Reason: new node registered with same name\n"
     ]
    }
   ],
   "source": [
    "turtle = Turtlebot(rgb = True, depth = True, pc = True)\n",
    "rate = Rate(10)"
   ]
  },
  {
   "cell_type": "code",
   "execution_count": null,
   "id": "552a6268",
   "metadata": {},
   "outputs": [],
   "source": []
  }
 ],
 "metadata": {
  "kernelspec": {
   "display_name": "Python 3 (ipykernel)",
   "language": "python",
   "name": "python3"
  },
  "language_info": {
   "codemirror_mode": {
    "name": "ipython",
    "version": 3
   },
   "file_extension": ".py",
   "mimetype": "text/x-python",
   "name": "python",
   "nbconvert_exporter": "python",
   "pygments_lexer": "ipython3",
   "version": "3.8.10"
  }
 },
 "nbformat": 4,
 "nbformat_minor": 5
}
