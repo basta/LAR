{
 "cells": [
  {
   "cell_type": "code",
   "execution_count": 6,
   "id": "ce9df97e",
   "metadata": {},
   "outputs": [],
   "source": [
    "from robolab_turtlebot import Turtlebot, Rate\n",
    "import rospy\n",
    "from sensor_msgs.msg import Joy\n",
    "import TurtleControllers\n",
    "import numpy as np"
   ]
  },
  {
   "cell_type": "code",
   "execution_count": null,
   "id": "453ec9e0",
   "metadata": {},
   "outputs": [],
   "source": [
    "turtle = Turtlebot(rgb = True, depth = True, pc = True)\n",
    "rate = Rate(10)\n",
    "\n",
    "STOP = False"
   ]
  },
  {
   "cell_type": "code",
   "execution_count": null,
   "id": "552a6268",
   "metadata": {},
   "outputs": [],
   "source": [
    "class JoystickCommander:\n",
    "    def __init__(self, turtle):\n",
    "        self.lin_vel = 0.0\n",
    "        self.ang_vel = 0.0\n",
    "        self.turtle = turtle\n",
    "        \n",
    "        self.sub = rospy.Subscriber(\"joy\", Joy, self.joy_callback)\n",
    "        self.rate = rospy.Rate(15)\n",
    "        self.run()\n",
    "        self.stop = False\n",
    "        \n",
    "    def joy_callback(self, msg):\n",
    "        self.lin_vel = msg.axes[1] * 0.5\n",
    "        self.ang_vel = msg.axes[3] * 1.6\n",
    "        self.stop = msg.buttons[0]\n",
    "        \n",
    "    def run(self):\n",
    "        while not self.stop:\n",
    "            self.turtle.cmd_velocity(linear = self.lin_vel, angular = self.ang_vel)\n",
    "            self.rate.sleep()\n",
    "            \n",
    "        print(\"Turtlebot stopped\")"
   ]
  },
  {
   "cell_type": "code",
   "execution_count": null,
   "id": "a3799dca",
   "metadata": {},
   "outputs": [],
   "source": [
    "j = JoystickCommander(turtle)"
   ]
  },
  {
   "cell_type": "code",
   "execution_count": 7,
   "id": "a931074e",
   "metadata": {},
   "outputs": [],
   "source": [
    "turtle = Turtlebot(rgb = True, depth = False, pc = True)\n",
    "turtle_controller = TurtleControllers.TurtlebotController(turtle, rate = 40)"
   ]
  },
  {
   "cell_type": "code",
   "execution_count": 8,
   "id": "3eb9cf67",
   "metadata": {},
   "outputs": [
    {
     "ename": "NameError",
     "evalue": "name 'turtle' is not defined",
     "output_type": "error",
     "traceback": [
      "\u001b[0;31m---------------------------------------------------------------------------\u001b[0m",
      "\u001b[0;31mNameError\u001b[0m                                 Traceback (most recent call last)",
      "Cell \u001b[0;32mIn[8], line 1\u001b[0m\n\u001b[0;32m----> 1\u001b[0m \u001b[43mturtle_controller\u001b[49m\u001b[38;5;241;43m.\u001b[39;49m\u001b[43mmove_to\u001b[49m\u001b[43m(\u001b[49m\u001b[43mnp\u001b[49m\u001b[38;5;241;43m.\u001b[39;49m\u001b[43marray\u001b[49m\u001b[43m(\u001b[49m\u001b[43m[\u001b[49m\u001b[38;5;241;43m1.0\u001b[39;49m\u001b[43m,\u001b[49m\u001b[43m \u001b[49m\u001b[38;5;241;43m0.0\u001b[39;49m\u001b[43m]\u001b[49m\u001b[43m)\u001b[49m\u001b[43m)\u001b[49m\n",
      "File \u001b[0;32m~/lar/Untitled Folder/TurtleControllers.py:105\u001b[0m, in \u001b[0;36mTurtlebotController.move_to\u001b[0;34m(self, position, yaw, relative)\u001b[0m\n\u001b[1;32m    103\u001b[0m     \u001b[38;5;28mself\u001b[39m\u001b[38;5;241m.\u001b[39m_move_to_rel(position, yaw)\n\u001b[1;32m    104\u001b[0m \u001b[38;5;28;01melse\u001b[39;00m:\n\u001b[0;32m--> 105\u001b[0m     \u001b[38;5;28;43mself\u001b[39;49m\u001b[38;5;241;43m.\u001b[39;49m\u001b[43m_move_to_abs\u001b[49m\u001b[43m(\u001b[49m\u001b[43mposition\u001b[49m\u001b[43m,\u001b[49m\u001b[43m \u001b[49m\u001b[43myaw\u001b[49m\u001b[43m)\u001b[49m\n",
      "File \u001b[0;32m~/lar/Untitled Folder/TurtleControllers.py:121\u001b[0m, in \u001b[0;36mTurtlebotController._move_to_abs\u001b[0;34m(self, position, yaw)\u001b[0m\n\u001b[1;32m    118\u001b[0m \u001b[38;5;28mself\u001b[39m\u001b[38;5;241m.\u001b[39mrotate(phi, relative \u001b[38;5;241m=\u001b[39m \u001b[38;5;28;01mFalse\u001b[39;00m)\n\u001b[1;32m    120\u001b[0m \u001b[38;5;66;03m# Move towards the desired position\u001b[39;00m\n\u001b[0;32m--> 121\u001b[0m \u001b[38;5;28;43mself\u001b[39;49m\u001b[38;5;241;43m.\u001b[39;49m\u001b[43mmove_forward\u001b[49m\u001b[43m(\u001b[49m\u001b[43mdistance\u001b[49m\u001b[43m \u001b[49m\u001b[38;5;241;43m=\u001b[39;49m\u001b[43m \u001b[49m\u001b[43mnp\u001b[49m\u001b[38;5;241;43m.\u001b[39;49m\u001b[43mlinalg\u001b[49m\u001b[38;5;241;43m.\u001b[39;49m\u001b[43mnorm\u001b[49m\u001b[43m(\u001b[49m\u001b[43merror\u001b[49m\u001b[43m)\u001b[49m\u001b[43m,\u001b[49m\u001b[43m \u001b[49m\u001b[43mdesired_yaw\u001b[49m\u001b[43m \u001b[49m\u001b[38;5;241;43m=\u001b[39;49m\u001b[43m \u001b[49m\u001b[43mphi\u001b[49m\u001b[43m)\u001b[49m\n\u001b[1;32m    123\u001b[0m \u001b[38;5;66;03m# Rotate to reach desired orientation\u001b[39;00m\n\u001b[1;32m    124\u001b[0m \u001b[38;5;28;01mif\u001b[39;00m yaw \u001b[38;5;129;01mis\u001b[39;00m \u001b[38;5;129;01mnot\u001b[39;00m \u001b[38;5;28;01mNone\u001b[39;00m:\n",
      "File \u001b[0;32m~/lar/Untitled Folder/TurtleControllers.py:98\u001b[0m, in \u001b[0;36mTurtlebotController.move_forward\u001b[0;34m(self, distance, desired_yaw, tol)\u001b[0m\n\u001b[1;32m     96\u001b[0m     error \u001b[38;5;241m=\u001b[39m goal \u001b[38;5;241m-\u001b[39m current_position\n\u001b[1;32m     97\u001b[0m     error_b \u001b[38;5;241m=\u001b[39m R_wb\u001b[38;5;241m.\u001b[39mT \u001b[38;5;241m@\u001b[39m error\n\u001b[0;32m---> 98\u001b[0m \u001b[43mturtle\u001b[49m\u001b[38;5;241m.\u001b[39mcmd_velocity(linear \u001b[38;5;241m=\u001b[39m \u001b[38;5;241m0\u001b[39m, angular \u001b[38;5;241m=\u001b[39m \u001b[38;5;241m0\u001b[39m)\n\u001b[1;32m     99\u001b[0m time\u001b[38;5;241m.\u001b[39msleep(\u001b[38;5;241m0.2\u001b[39m)\n",
      "\u001b[0;31mNameError\u001b[0m: name 'turtle' is not defined"
     ]
    },
    {
     "name": "stdout",
     "output_type": "stream",
     "text": [
      "shutdown request: [/turtlenode] Reason: new node registered with same name\n"
     ]
    }
   ],
   "source": [
    "turtle_controller.move_to(np.array([1.0, 0.0]))"
   ]
  },
  {
   "cell_type": "code",
   "execution_count": null,
   "id": "e4581f7d",
   "metadata": {},
   "outputs": [],
   "source": []
  }
 ],
 "metadata": {
  "kernelspec": {
   "display_name": "Python 3 (ipykernel)",
   "language": "python",
   "name": "python3"
  },
  "language_info": {
   "codemirror_mode": {
    "name": "ipython",
    "version": 3
   },
   "file_extension": ".py",
   "mimetype": "text/x-python",
   "name": "python",
   "nbconvert_exporter": "python",
   "pygments_lexer": "ipython3",
   "version": "3.8.10"
  }
 },
 "nbformat": 4,
 "nbformat_minor": 5
}
