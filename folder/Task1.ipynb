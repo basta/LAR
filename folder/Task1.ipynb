{
 "cells": [
  {
   "cell_type": "markdown",
   "id": "b0b60fe4-02a3-4b2e-ad43-58376ac80465",
   "metadata": {},
   "source": [
    "### **Imports**"
   ]
  },
  {
   "cell_type": "code",
   "execution_count": null,
   "id": "c5ae09b4-9768-4d73-aa17-edde1c78ad47",
   "metadata": {},
   "outputs": [],
   "source": [
    "from robolab_turtlebot import Turtlebot\n",
    "from TurtleControllers import TurtleController\n",
    "from TurtleVision import TurtleVision\n",
    "import TurtleUtils"
   ]
  },
  {
   "cell_type": "markdown",
   "id": "3f177ddb-f067-430e-abc3-66abdc706795",
   "metadata": {},
   "source": [
    "## **Initialization**"
   ]
  },
  {
   "cell_type": "code",
   "execution_count": null,
   "id": "056d1793-ff5b-4ed3-9fd2-4ab6b363313b",
   "metadata": {},
   "outputs": [],
   "source": [
    "turtle = Turtlebot(rgb = True, pc = True)\n",
    "turtle_controller = TurtleController(turtle, rate = 40)\n",
    "turtle_vision = TurtleVision(turtle)"
   ]
  },
  {
   "cell_type": "markdown",
   "id": "003cffda-e0b7-456f-a5aa-f1d64b128eb7",
   "metadata": {},
   "source": [
    "#### **Find garage center**"
   ]
  },
  {
   "cell_type": "code",
   "execution_count": null,
   "id": "145eff32-e889-4928-b49f-b64c3a872a62",
   "metadata": {
    "tags": []
   },
   "outputs": [],
   "source": [
    "def reg_mean(regs):\n",
    "    s, n = 0.0, len(regs) * 2\n",
    "    for reg in regs:\n",
    "        s += reg[0] + reg[1]\n",
    "    return s / n\n",
    "\n",
    "def reg_mid(reg):\n",
    "    return (reg[0] + reg[1]) / 2\n",
    "\n",
    "# Find Garage center\n",
    "while True:\n",
    "    regs = turtle_vision.get_regions(color = \"purple\")\n",
    "\n",
    "    # Want to see two purple pillars\n",
    "    while len(regs) < 2:\n",
    "        turtle_controller.cmd_velocity(angular = 0.5)\n",
    "        \n",
    "    # Want to look at the center of the garage entrance\n",
    "    m = reg_mean(regs)\n",
    "    \n",
    "    err = m - turtle_vision.img_width\n",
    "    if abs(err) < 6:\n",
    "        turtle_controller.cmd_velocity(linear = 0, angular = 0)\n",
    "        break\n",
    "    else:\n",
    "        if err < 0.0:\n",
    "            err = np.clip(err, -turtle_controller.max_yaw_rate, -turtle_controller.min_yaw_rate)\n",
    "        else:\n",
    "            err = np.clip(err, turtle_controller.min_yaw_rate, turtle_controller.max_yaw_rate)\n",
    "        turtle_controller.cmd_velocity(linear = 0, angular = angular)\n",
    "        \n",
    "    turtle_controller.rate.sleep()"
   ]
  },
  {
   "cell_type": "markdown",
   "id": "93da4b59-4e89-4cd4-bf7c-09c0fb23dae6",
   "metadata": {},
   "source": [
    "#### **Generate a garage model**"
   ]
  },
  {
   "cell_type": "code",
   "execution_count": null,
   "id": "8605dcc9-d6c3-4446-bbc1-d71e233292a7",
   "metadata": {
    "tags": []
   },
   "outputs": [],
   "source": [
    "turtle_controller.reset_odometry()\n",
    "P1, P2, P_G, P_PG, P_GOAL = turtle_vision.garage_entry_waypoints()\n",
    "\n",
    "fig, ax = plt.subplots(1)\n",
    "TurtleUtils.visualize_garage(ax, P1, P2, P_G, P_PG, P_GOAL)"
   ]
  },
  {
   "cell_type": "markdown",
   "id": "9326c884-87ad-49a6-a685-4b3cc50edcb5",
   "metadata": {},
   "source": [
    "#### **Enter garage**"
   ]
  },
  {
   "cell_type": "code",
   "execution_count": null,
   "id": "4d059f34-3640-42ed-9562-e3433078b269",
   "metadata": {},
   "outputs": [],
   "source": [
    "for point in (P_PG, P_GOAL):\n",
    "    turtle_controller.move_to(point, relative = False)"
   ]
  }
 ],
 "metadata": {
  "kernelspec": {
   "display_name": "Python 3 (ipykernel)",
   "language": "python",
   "name": "python3"
  },
  "language_info": {
   "codemirror_mode": {
    "name": "ipython",
    "version": 3
   },
   "file_extension": ".py",
   "mimetype": "text/x-python",
   "name": "python",
   "nbconvert_exporter": "python",
   "pygments_lexer": "ipython3",
   "version": "3.8.10"
  }
 },
 "nbformat": 4,
 "nbformat_minor": 5
}
