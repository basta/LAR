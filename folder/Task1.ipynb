{
 "cells": [
  {
   "cell_type": "markdown",
   "id": "b0b60fe4-02a3-4b2e-ad43-58376ac80465",
   "metadata": {},
   "source": [
    "### **Imports**"
   ]
  },
  {
   "cell_type": "code",
   "execution_count": 1,
   "id": "c5ae09b4-9768-4d73-aa17-edde1c78ad47",
   "metadata": {},
   "outputs": [],
   "source": [
    "import numpy as np\n",
    "import matplotlib.pyplot as plt\n",
    "\n",
    "from robolab_turtlebot import Turtlebot\n",
    "from TurtleControllers import TurtlebotController\n",
    "from TurtleVision import TurtlebotVision\n",
    "import TurtleUtils"
   ]
  },
  {
   "cell_type": "markdown",
   "id": "3f177ddb-f067-430e-abc3-66abdc706795",
   "metadata": {},
   "source": [
    "## **Initialization**"
   ]
  },
  {
   "cell_type": "code",
   "execution_count": 2,
   "id": "056d1793-ff5b-4ed3-9fd2-4ab6b363313b",
   "metadata": {},
   "outputs": [],
   "source": [
    "turtle = Turtlebot(rgb = True, pc = True)\n",
    "turtle_controller = TurtlebotController(turtle, rate = 40)\n",
    "turtle_vision = TurtlebotVision(turtle)"
   ]
  },
  {
   "cell_type": "markdown",
   "id": "003cffda-e0b7-456f-a5aa-f1d64b128eb7",
   "metadata": {},
   "source": [
    "#### **Find garage center**"
   ]
  },
  {
   "cell_type": "code",
   "execution_count": null,
   "id": "145eff32-e889-4928-b49f-b64c3a872a62",
   "metadata": {
    "tags": []
   },
   "outputs": [],
   "source": [
    "def reg_mean(regs):\n",
    "    s, n = 0.0, len(regs) * 2\n",
    "    for reg in regs:\n",
    "        s += reg[0] + reg[1]\n",
    "    return s / n\n",
    "\n",
    "def reg_mid(reg):\n",
    "    return (reg[0] + reg[1]) / 2\n",
    "\n",
    "# Find Garage center\n",
    "while True:\n",
    "    regs = turtle_vision.get_regions(color = \"purple\", minimal_size=15)\n",
    "    \n",
    "    # Want to see two purple pillars\n",
    "    while len(regs) < 2:\n",
    "        turtle_controller.cmd_velocity(angular = 0.5)\n",
    "        regs = turtle_vision.get_regions(color = \"purple\", minimal_size=15)\n",
    "        turtle_controller.rate.sleep()\n",
    "        \n",
    "    # Want to look at the center of the garage entrance\n",
    "    m = reg_mean(regs)\n",
    "    err = m - turtle_vision.img_width // 2\n",
    "    print(err)\n",
    "    if abs(err) < 10:\n",
    "        turtle_controller.cmd_velocity(linear = 0, angular = 0)\n",
    "        break\n",
    "    else:\n",
    "        if err < 0.0:\n",
    "            err = np.clip(err, -turtle_controller.max_yaw_rate, -turtle_controller.min_yaw_rate)\n",
    "        else:\n",
    "            err = np.clip(err, turtle_controller.min_yaw_rate, turtle_controller.max_yaw_rate)\n",
    "        turtle_controller.cmd_velocity(linear = 0, angular = -err)\n",
    "        \n",
    "    turtle_controller.rate.sleep()"
   ]
  },
  {
   "cell_type": "markdown",
   "id": "93da4b59-4e89-4cd4-bf7c-09c0fb23dae6",
   "metadata": {},
   "source": [
    "#### **Generate a garage model**"
   ]
  },
  {
   "cell_type": "code",
   "execution_count": null,
   "id": "8605dcc9-d6c3-4446-bbc1-d71e233292a7",
   "metadata": {
    "tags": []
   },
   "outputs": [],
   "source": [
    "turtle_controller.reset_odometry()\n",
    "P1, P2, P_G, P_PG, P_GOAL = turtle_vision.garage_entry_waypoints()\n",
    "\n",
    "fig, ax = plt.subplots(1)\n",
    "TurtleUtils.visualize_garage(ax, P1, P2, P_G, P_PG, P_GOAL)"
   ]
  },
  {
   "cell_type": "code",
   "execution_count": null,
   "id": "4d059f34-3640-42ed-9562-e3433078b269",
   "metadata": {},
   "outputs": [],
   "source": [
    "turtle_controller.move_to(point, relative = False)"
   ]
  },
  {
   "cell_type": "code",
   "execution_count": null,
   "id": "3279724b",
   "metadata": {},
   "outputs": [],
   "source": [
    "def reg_mean(regs):\n",
    "    s, n = 0.0, len(regs) * 2\n",
    "    for reg in regs:\n",
    "        s += reg[0] + reg[1]\n",
    "    return s / n\n",
    "\n",
    "def reg_mid(reg):\n",
    "    return (reg[0] + reg[1]) / 2\n",
    "\n",
    "# Find Garage center\n",
    "while True:\n",
    "    regs = turtle_vision.get_regions(color = \"purple\", minimal_size=13)\n",
    "    \n",
    "    # Want to see two purple pillars\n",
    "    while len(regs) < 2:\n",
    "        turtle_controller.cmd_velocity(angular = 0.5)\n",
    "        regs = turtle_vision.get_regions(color = \"purple\", minimal_size=13)\n",
    "        turtle_controller.rate.sleep()\n",
    "        \n",
    "    # Want to look at the center of the garage entrance\n",
    "    m = reg_mean(regs)\n",
    "    \n",
    "    err = m - turtle_vision.img_width // 2\n",
    "    print(err)\n",
    "    if abs(err) < 10:\n",
    "        turtle_controller.cmd_velocity(linear = 0, angular = 0)\n",
    "        break\n",
    "    else:\n",
    "        if err < 0.0:\n",
    "            err = np.clip(err, -turtle_controller.max_yaw_rate, -turtle_controller.min_yaw_rate)\n",
    "        else:\n",
    "            err = np.clip(err, turtle_controller.min_yaw_rate, turtle_controller.max_yaw_rate)\n",
    "        turtle_controller.cmd_velocity(linear = 0, angular = -err)\n",
    "        \n",
    "    turtle_controller.rate.sleep()\n",
    "    \n",
    "turtle_controller.reset_odometry()\n",
    "P1, P2, P_G, P_PG, P_GOAL = turtle_vision.garage_entry_waypoints()\n",
    "\n",
    "turtle_controller.move_to(P_PG, relative = False)\n",
    "\n",
    "# Find Garage center\n",
    "while True:\n",
    "    regs = turtle_vision.get_regions(color = \"purple\", minimal_size=13)\n",
    "    \n",
    "    # Want to see two purple pillars\n",
    "    while len(regs) < 2:\n",
    "        turtle_controller.cmd_velocity(angular = 0.5)\n",
    "        regs = turtle_vision.get_regions(color = \"purple\", minimal_size=13)\n",
    "        turtle_controller.rate.sleep()\n",
    "        \n",
    "    # Want to look at the center of the garage entrance\n",
    "    m = reg_mean(regs)\n",
    "    \n",
    "    err = m - turtle_vision.img_width // 2\n",
    "    print(err)\n",
    "    if abs(err) < 10:\n",
    "        turtle_controller.cmd_velocity(linear = 0, angular = 0)\n",
    "        break\n",
    "    else:\n",
    "        if err < 0.0:\n",
    "            err = np.clip(err, -turtle_controller.max_yaw_rate, -turtle_controller.min_yaw_rate)\n",
    "        else:\n",
    "            err = np.clip(err, turtle_controller.min_yaw_rate, turtle_controller.max_yaw_rate)\n",
    "        turtle_controller.cmd_velocity(linear = 0, angular = -err)\n",
    "        \n",
    "    turtle_controller.rate.sleep()\n",
    "    \n",
    "turtle_controller.reset_odometry()\n",
    "P1, P2, P_G, P_PG, P_GOAL = turtle_vision.garage_entry_waypoints()\n",
    "\n",
    "for point in (P_PG, P_GOAL):\n",
    "    turtle_controller.move_to(point, relative = False)"
   ]
  },
  {
   "cell_type": "code",
   "execution_count": null,
   "id": "f5121868",
   "metadata": {},
   "outputs": [],
   "source": [
    "turtle_controller.reset_odometry()\n",
    "P1, P2, P_G, P_PG, P_GOAL = turtle_vision.garage_entry_waypoints()\n",
    "\n",
    "for point in (P_PG, P_GOAL):\n",
    "    turtle_controller.move_to(point, relative = False)"
   ]
  },
  {
   "cell_type": "code",
   "execution_count": 5,
   "id": "fb56e01f",
   "metadata": {},
   "outputs": [
    {
     "name": "stderr",
     "output_type": "stream",
     "text": [
      "/home.nfs/jonjaku1/lar/22_3_2023/lar/folder/TurtleVision.py:48: RuntimeWarning: Mean of empty slice\n",
      "  column_mean = np.nanmean(depth_image_strip, axis=0)\n"
     ]
    }
   ],
   "source": [
    "import numpy as np\n",
    "import matplotlib.pyplot as plt\n",
    "\n",
    "from robolab_turtlebot import Turtlebot\n",
    "from TurtleControllers import TurtlebotController\n",
    "from TurtleVision import TurtlebotVision\n",
    "import TurtleUtils\n",
    "\n",
    "#Chceš-li přehledný a čitelný kód, napiš ho v pythnu - Kat master 2022\n",
    "\n",
    "class turtle_dif_1pyco:\n",
    "    def __init__(self, turtle_controller, turtle_vision):\n",
    "        self.turtle_controller = turtle_controller\n",
    "        self.turtle_vision = turtle_vision\n",
    "\n",
    "    def main_pyco(self, number_of_calibrations):\n",
    "        error = False\n",
    "        if number_of_calibrations < 1:\n",
    "            print(\"Pyco zadej přirozené číslo\")\n",
    "            return error\n",
    "        if number_of_calibrations == 1:\n",
    "            P_PG, P_GOAL = self.find_garage()\n",
    "        else:\n",
    "            for i in range(number_of_calibrations - 1):\n",
    "                P_PG, P_GOAL = self.find_garage()\n",
    "\n",
    "        for point in (P_PG, P_GOAL):\n",
    "            self.turtle_controller.move_to(point, relative = False)\n",
    "\n",
    "    def reg_mean(self, regs):\n",
    "        s, n = 0.0, len(regs) * 2 #s = suma, n = pocet objektu\n",
    "        for reg in regs:\n",
    "            s += reg[0] + reg[1]\n",
    "        average = s/n #prumer\n",
    "        return average\n",
    "\n",
    "    def reg_mid(self, reg):\n",
    "        return (reg[0] + reg[1]) / 2\n",
    "\n",
    "    def find_garage(self):\n",
    "        finish = False\n",
    "        while not finish:\n",
    "            purple_regs = self.turtle_vision.get_regions(color = \"purple\", minimal_size = 8)\n",
    "            purple_regs_2 = self.find_2_purple_regs(purple_regs)\n",
    "            centre_of_garage = self.reg_mean(purple_regs_2)\n",
    "            err = centre_of_garage - self.turtle_vision.img_width // 2\n",
    "            finish = self.good_direction(err)\n",
    "        self.turtle_controller.reset_odometry()\n",
    "        P1, P2, P_G, P_PG, P_GOAL = self.turtle_vision.garage_entry_waypoints()\n",
    "        self.turtle_controller.move_to(P_PG, relative = False)\n",
    "        return P_PG, P_GOAL\n",
    "\n",
    "    def find_2_purple_regs(self, purple_regs):\n",
    "        while len(purple_regs) < 2:\n",
    "            self.turtle_controller.cmd_velocity(angular=0.4)\n",
    "            purple_regs = self.turtle_vision.get_regions(color=\"purple\", minimal_size=8)\n",
    "            self.turtle_controller.rate.sleep()\n",
    "        return purple_regs\n",
    "\n",
    "    def good_direction(self, err):\n",
    "        finish = False\n",
    "        if abs(err) < 10:\n",
    "            self.turtle_controller.cmd_velocity(linear = 0, angular = 0)\n",
    "            finish = True\n",
    "        else:\n",
    "            if err < 0.0:\n",
    "                err = np.clip(err, -self.turtle_controller.max_yaw_rate,\n",
    "                              -self.turtle_controller.min_yaw_rate)\n",
    "            else:\n",
    "                err = np.clip(err, self.turtle_controller.min_yaw_rate,\n",
    "                              self.turtle_controller.max_yaw_rate)\n",
    "            self.turtle_controller.cmd_velocity(linear = 0, angular = -err)\n",
    "        self.turtle_controller.rate.sleep()\n",
    "        return finish\n",
    "\n",
    "turtle = Turtlebot(rgb = True, pc = True)\n",
    "turtle_controller = TurtlebotController(turtle, rate = 40)\n",
    "turtle_vision = TurtlebotVision(turtle)\n",
    "turtle_dif_1pyco = turtle_dif_1pyco(turtle_controller, turtle_vision)\n",
    "turtle_dif_1pyco.main_pyco(1)"
   ]
  },
  {
   "cell_type": "code",
   "execution_count": null,
   "id": "333dac0c",
   "metadata": {},
   "outputs": [],
   "source": []
  }
 ],
 "metadata": {
  "kernelspec": {
   "display_name": "Python 3 (ipykernel)",
   "language": "python",
   "name": "python3"
  },
  "language_info": {
   "codemirror_mode": {
    "name": "ipython",
    "version": 3
   },
   "file_extension": ".py",
   "mimetype": "text/x-python",
   "name": "python",
   "nbconvert_exporter": "python",
   "pygments_lexer": "ipython3",
   "version": "3.8.10"
  }
 },
 "nbformat": 4,
 "nbformat_minor": 5
}
