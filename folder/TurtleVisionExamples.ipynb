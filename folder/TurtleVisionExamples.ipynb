{
 "cells": [
  {
   "cell_type": "markdown",
   "id": "128226e7-d9d2-4aaa-ad0c-7b8336fb493e",
   "metadata": {},
   "source": [
    "### **Imports and initialization**"
   ]
  },
  {
   "cell_type": "code",
   "execution_count": null,
   "id": "f699dadb-27f8-4eed-b9dd-acf555457776",
   "metadata": {
    "tags": []
   },
   "outputs": [],
   "source": [
    "from TurtleVision import TurtlebotVision\n",
    "from TurtleUtils import show_img, plot_data, robot2plt\n",
    "\n",
    "from robolab_turtlebot import Turtlebot\n",
    "turtle = Turtlebot(rgb = True, pc = True)\n",
    "turtle_vision = TurtlebotVision(turtle)"
   ]
  },
  {
   "cell_type": "markdown",
   "id": "9a2762a2-6867-4adb-859f-ff7a2702acc5",
   "metadata": {},
   "source": [
    "#### **RGB image**"
   ]
  },
  {
   "cell_type": "code",
   "execution_count": null,
   "id": "c3bc2857-233e-4e39-9783-edffd34cc699",
   "metadata": {},
   "outputs": [],
   "source": [
    "img = turtle_vision.get_rgb_image()\n",
    "show_img(img)"
   ]
  },
  {
   "cell_type": "markdown",
   "id": "90816552-0166-460f-a986-65eaaacb0fa3",
   "metadata": {},
   "source": [
    "#### **RGB image strip**"
   ]
  },
  {
   "cell_type": "code",
   "execution_count": null,
   "id": "98a8076c-89c7-4847-b351-2d4c40bd74a3",
   "metadata": {},
   "outputs": [],
   "source": [
    "img = turtle_vision.get_rgb_image_strip()\n",
    "show_img(img)"
   ]
  },
  {
   "cell_type": "markdown",
   "id": "3ace8c99-2e6f-40d1-ab2f-9110f1f1ac7a",
   "metadata": {},
   "source": [
    "#### **Get mask**"
   ]
  },
  {
   "cell_type": "code",
   "execution_count": null,
   "id": "c920fabf-48a6-421b-9512-56bb774df702",
   "metadata": {
    "tags": []
   },
   "outputs": [],
   "source": [
    "mask = turtle_vision.get_rgb_mask(color = \"yellow\")\n",
    "show_img(mask)"
   ]
  },
  {
   "cell_type": "code",
   "execution_count": null,
   "id": "e91bfd25-c567-46c3-8a28-03df6936cdcd",
   "metadata": {
    "tags": []
   },
   "outputs": [],
   "source": [
    "mask = turtle_vision.get_rgb_mask(color = \"purple\")\n",
    "show_img(mask)"
   ]
  },
  {
   "cell_type": "markdown",
   "id": "54471c88-9d0c-4914-97f3-9fba64116866",
   "metadata": {},
   "source": [
    "#### **Depth image**"
   ]
  },
  {
   "cell_type": "code",
   "execution_count": null,
   "id": "abd8cd6e-2ebd-4fe7-a733-5fdef808666d",
   "metadata": {},
   "outputs": [],
   "source": [
    "depth = turtle_vision.get_depth_image()\n",
    "show_img(depth)"
   ]
  },
  {
   "cell_type": "markdown",
   "id": "1486206c-e9f7-4dbf-86e7-35a8d6e64176",
   "metadata": {},
   "source": [
    "#### **Depth image strip filtered**\n",
    "- Removes NaNs"
   ]
  },
  {
   "cell_type": "code",
   "execution_count": null,
   "id": "c572739c-a76b-443d-abd7-2be4f355f9f4",
   "metadata": {
    "tags": []
   },
   "outputs": [],
   "source": [
    "depth_filtered = turtle_vision.get_depth_image_strip_filtered()\n",
    "show_img(depth_filtered)"
   ]
  },
  {
   "cell_type": "markdown",
   "id": "640d9f23-ac6d-49c2-8679-d3790f920373",
   "metadata": {},
   "source": [
    "#### **Color regions**"
   ]
  },
  {
   "cell_type": "code",
   "execution_count": null,
   "id": "e448b424-b8ff-4e66-974a-79d0785e4b66",
   "metadata": {},
   "outputs": [],
   "source": [
    "regs = turtle_vision.get_regions(color = \"yellow\", minimal_size = 10)\n",
    "print(regs)"
   ]
  },
  {
   "cell_type": "code",
   "execution_count": null,
   "id": "ca6b5ef9-3b19-4880-96c1-4b67d3e98121",
   "metadata": {},
   "outputs": [],
   "source": [
    "regs = turtle_vision.get_regions(color = \"purple\", minimal_size = 10)\n",
    "print(regs)"
   ]
  },
  {
   "cell_type": "markdown",
   "id": "95bec2da-ff32-4cba-a3ea-c0dc81235fdc",
   "metadata": {},
   "source": [
    "#### **Sample garage**"
   ]
  },
  {
   "cell_type": "code",
   "execution_count": null,
   "id": "34bc3882-ad2e-42a1-bb42-8a242f255ce7",
   "metadata": {},
   "outputs": [],
   "source": [
    "sampled_points = turtle_vision.sample_garage(color = \"yellow\",\n",
    "                        sampling_step = 20, r2p = True)\n",
    "sampled_points_np = np.array(sampled_points).T\n",
    "\n",
    "plot_data([sampled_points_np], [\"Garage sampled\"])"
   ]
  }
 ],
 "metadata": {
  "kernelspec": {
   "display_name": "Python 3 (ipykernel)",
   "language": "python",
   "name": "python3"
  },
  "language_info": {
   "codemirror_mode": {
    "name": "ipython",
    "version": 3
   },
   "file_extension": ".py",
   "mimetype": "text/x-python",
   "name": "python",
   "nbconvert_exporter": "python",
   "pygments_lexer": "ipython3",
   "version": "3.8.10"
  }
 },
 "nbformat": 4,
 "nbformat_minor": 5
}
