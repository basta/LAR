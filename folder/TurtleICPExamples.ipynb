{
 "cells": [
  {
   "cell_type": "markdown",
   "id": "1edc0ec5-bece-40ee-9e49-075b5c3f3922",
   "metadata": {},
   "source": [
    "### **Imports and initialization**"
   ]
  },
  {
   "cell_type": "code",
   "execution_count": null,
   "id": "7d5d4d0d-49d1-47d0-8ae4-ad3cbae5178d",
   "metadata": {
    "tags": []
   },
   "outputs": [],
   "source": [
    "from TurtleVision import TurtlebotVision\n",
    "from TurtleICP import TurtlebotICP\n",
    "from TurtleUtils import show_img, plot_data, robot2plt, plot_fitted_garage\n",
    "\n",
    "from robolab_turtlebot import Turtlebot\n",
    "turtle = Turtlebot(rgb = True, pc = True)\n",
    "turtle_vision = TurtlebotVision(turtle)\n",
    "turtle_icp = TurtlebotICP()"
   ]
  },
  {
   "cell_type": "markdown",
   "id": "5cedf15e-606b-4e3c-b1ef-a84f1a73045f",
   "metadata": {},
   "source": [
    "#### **Sample garage and fit garage model**"
   ]
  },
  {
   "cell_type": "code",
   "execution_count": null,
   "id": "8edc397b-2a15-4148-a90c-d7da718dca4e",
   "metadata": {},
   "outputs": [],
   "source": [
    "sampled_points = turtle_vision.sample_garage(color = \"yellow\",\n",
    "                        sampling_step = 20, r2p = True)\n",
    "sampled_points_np = np.array(sampled_points).T\n",
    "plot_data([sampled_points_np], [\"Garage sampled\"])"
   ]
  },
  {
   "cell_type": "code",
   "execution_count": null,
   "id": "428641e2-31e7-472b-be77-af62c04a76e0",
   "metadata": {},
   "outputs": [],
   "source": [
    "result = turtle_icp.optimize(sampled_points)\n",
    "result.animate_result()"
   ]
  },
  {
   "cell_type": "code",
   "execution_count": null,
   "id": "ee01e49d-8537-4a57-99da-ad066545883a",
   "metadata": {},
   "outputs": [],
   "source": [
    "plot_fitted_garage(result.garage, data)"
   ]
  }
 ],
 "metadata": {
  "kernelspec": {
   "display_name": "Python 3 (ipykernel)",
   "language": "python",
   "name": "python3"
  },
  "language_info": {
   "codemirror_mode": {
    "name": "ipython",
    "version": 3
   },
   "file_extension": ".py",
   "mimetype": "text/x-python",
   "name": "python",
   "nbconvert_exporter": "python",
   "pygments_lexer": "ipython3",
   "version": "3.8.10"
  }
 },
 "nbformat": 4,
 "nbformat_minor": 5
}
